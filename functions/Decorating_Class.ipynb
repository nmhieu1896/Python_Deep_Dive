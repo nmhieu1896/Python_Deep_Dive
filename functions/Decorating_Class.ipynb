{
 "cells": [
  {
   "cell_type": "markdown",
   "id": "5c67e137",
   "metadata": {},
   "source": [
    "# Decorator Application  with Class"
   ]
  },
  {
   "cell_type": "code",
   "execution_count": 7,
   "id": "890b7d9e",
   "metadata": {},
   "outputs": [],
   "source": [
    "class CallableClass:\n",
    "    def __init__(self, a, b):\n",
    "        self.a = a\n",
    "        self.b = b\n",
    "    \n",
    "    def __call__(self, fn):\n",
    "        def inner(*args, **kwargs):\n",
    "            print(f\"Scope contain class attribute with a={self.a} and b={self.b}\")\n",
    "            return fn(*args, **kwargs)\n",
    "        return inner"
   ]
  },
  {
   "cell_type": "code",
   "execution_count": 8,
   "id": "e2c35404",
   "metadata": {},
   "outputs": [],
   "source": [
    "@CallableClass(100,200)\n",
    "def func(s):\n",
    "    print(f'printing {s}')"
   ]
  },
  {
   "cell_type": "code",
   "execution_count": 9,
   "id": "8c014e4a",
   "metadata": {},
   "outputs": [
    {
     "name": "stdout",
     "output_type": "stream",
     "text": [
      "Scope contain class attribute with a=100 and b=200\n",
      "printing Hello world!\n"
     ]
    }
   ],
   "source": [
    "func(\"Hello world!\")"
   ]
  },
  {
   "cell_type": "code",
   "execution_count": null,
   "id": "1ad0e538",
   "metadata": {},
   "outputs": [],
   "source": []
  }
 ],
 "metadata": {
  "kernelspec": {
   "display_name": "Python 3 (ipykernel)",
   "language": "python",
   "name": "python3"
  },
  "language_info": {
   "codemirror_mode": {
    "name": "ipython",
    "version": 3
   },
   "file_extension": ".py",
   "mimetype": "text/x-python",
   "name": "python",
   "nbconvert_exporter": "python",
   "pygments_lexer": "ipython3",
   "version": "3.9.5"
  }
 },
 "nbformat": 4,
 "nbformat_minor": 5
}
