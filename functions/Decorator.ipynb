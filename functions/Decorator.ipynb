{
 "cells": [
  {
   "cell_type": "markdown",
   "id": "2ef8189e",
   "metadata": {},
   "source": [
    "# Decorator Application"
   ]
  },
  {
   "cell_type": "markdown",
   "id": "2d55c5a6",
   "metadata": {},
   "source": [
    "## Log and timing"
   ]
  },
  {
   "cell_type": "code",
   "execution_count": 1,
   "id": "96aadb12",
   "metadata": {},
   "outputs": [],
   "source": [
    "def logged(fn):\n",
    "    from functools import wraps\n",
    "    from datetime import datetime, timezone\n",
    "    \n",
    "    @wraps(fn)\n",
    "    def inner(*args, **kwargs):\n",
    "        run_dt = datetime.now(timezone.utc)\n",
    "        result = fn(*args, **kwargs)\n",
    "        print(f'{run_dt}: called {fn.__name__}')\n",
    "        return result\n",
    "    \n",
    "    return inner"
   ]
  },
  {
   "cell_type": "code",
   "execution_count": 2,
   "id": "b15447ba",
   "metadata": {},
   "outputs": [],
   "source": [
    "@logged\n",
    "def func1():\n",
    "    x = 10\n",
    "    pass"
   ]
  },
  {
   "cell_type": "code",
   "execution_count": 22,
   "id": "df2eef9a",
   "metadata": {},
   "outputs": [],
   "source": [
    "def timed(fn):\n",
    "    from functools import wraps\n",
    "    from time import perf_counter\n",
    "    \n",
    "    @wraps(fn)\n",
    "    def inner(*args, **kwargs):\n",
    "        start = perf_counter()\n",
    "        result = fn(*args, **kwargs)\n",
    "        end = perf_counter()\n",
    "        print('{0} ran for {1:.6f}s'.format(fn.__name__, end-start))\n",
    "        return result\n",
    "    \n",
    "    return inner"
   ]
  },
  {
   "cell_type": "code",
   "execution_count": 23,
   "id": "6a9fde73",
   "metadata": {},
   "outputs": [],
   "source": [
    "@logged\n",
    "@timed\n",
    "def fact(n):\n",
    "    from operator import mul\n",
    "    from functools import reduce\n",
    "    \n",
    "    return reduce(mul, range(1,n+1))"
   ]
  },
  {
   "cell_type": "code",
   "execution_count": 24,
   "id": "d5b1c980",
   "metadata": {},
   "outputs": [
    {
     "name": "stdout",
     "output_type": "stream",
     "text": [
      "fact ran for 0.000020s\n",
      "2021-11-08 10:00:03.507532+00:00: called fact\n"
     ]
    },
    {
     "data": {
      "text/plain": [
       "120"
      ]
     },
     "execution_count": 24,
     "metadata": {},
     "output_type": "execute_result"
    }
   ],
   "source": [
    "fact(5)"
   ]
  },
  {
   "cell_type": "code",
   "execution_count": 25,
   "id": "1cf95a0a",
   "metadata": {},
   "outputs": [
    {
     "name": "stdout",
     "output_type": "stream",
     "text": [
      "fact ran for 0.000023s\n",
      "2021-11-08 10:00:03.680422+00:00: called fact\n"
     ]
    },
    {
     "data": {
      "text/plain": [
       "3628800"
      ]
     },
     "execution_count": 25,
     "metadata": {},
     "output_type": "execute_result"
    }
   ],
   "source": [
    "fact(10)"
   ]
  },
  {
   "cell_type": "markdown",
   "id": "41e2c60f",
   "metadata": {},
   "source": [
    "### -----------------------------------------------------------------"
   ]
  },
  {
   "cell_type": "markdown",
   "id": "af6ff280",
   "metadata": {},
   "source": [
    "## Caching"
   ]
  },
  {
   "cell_type": "code",
   "execution_count": 26,
   "id": "b133899e",
   "metadata": {},
   "outputs": [],
   "source": [
    "def caching(fn):\n",
    "\n",
    "    cache = {}\n",
    "    def inner(*args, **kwargs):\n",
    "        args_key = str(args) + str(kwargs)\n",
    "        if (args_key not in cache):\n",
    "            #print(\"Calculate the first time!!\")\n",
    "            result = fn(*args, **kwargs)\n",
    "            cache[args_key] = result\n",
    "        #else:\n",
    "            #print(\"Got you!!!\")\n",
    "        return cache[args_key]\n",
    "    \n",
    "    return inner"
   ]
  },
  {
   "cell_type": "code",
   "execution_count": 27,
   "id": "14536e24",
   "metadata": {},
   "outputs": [],
   "source": [
    "# @logged\n",
    "@timed\n",
    "@caching\n",
    "def fibo(n):\n",
    "    #print(\"running the function\")\n",
    "    \n",
    "    if (n < 0):\n",
    "        result = -1\n",
    "    elif (n < 2):\n",
    "        result = n\n",
    "    else:\n",
    "        # will re-caculate fibo(n-1) and fibo(n-2) so many times without caching\n",
    "        result = fibo(n-1) + fibo(n-2)\n",
    "    return result"
   ]
  },
  {
   "cell_type": "code",
   "execution_count": 28,
   "id": "98f28079",
   "metadata": {},
   "outputs": [
    {
     "name": "stdout",
     "output_type": "stream",
     "text": [
      "inner ran for 0.000005s\n",
      "inner ran for 0.000013s\n",
      "inner ran for 0.000365s\n",
      "inner ran for 0.000016s\n",
      "inner ran for 0.000728s\n",
      "inner ran for 0.000011s\n",
      "inner ran for 0.000888s\n",
      "inner ran for 0.000005s\n",
      "inner ran for 0.000987s\n",
      "inner ran for 0.000004s\n",
      "inner ran for 0.001078s\n",
      "inner ran for 0.000004s\n",
      "inner ran for 0.001170s\n",
      "inner ran for 0.000004s\n",
      "inner ran for 0.001262s\n",
      "inner ran for 0.000004s\n",
      "inner ran for 0.002495s\n",
      "inner ran for 0.000014s\n",
      "inner ran for 0.002862s\n",
      "inner ran for 0.000005s\n",
      "inner ran for 0.002933s\n",
      "inner ran for 0.000005s\n",
      "inner ran for 0.002997s\n",
      "inner ran for 0.000004s\n",
      "inner ran for 0.003062s\n",
      "inner ran for 0.000004s\n",
      "inner ran for 0.003126s\n",
      "inner ran for 0.000003s\n",
      "inner ran for 0.003360s\n",
      "inner ran for 0.000005s\n",
      "inner ran for 0.003428s\n",
      "inner ran for 0.000004s\n",
      "inner ran for 0.003497s\n",
      "inner ran for 0.000004s\n",
      "inner ran for 0.003560s\n",
      "inner ran for 0.000004s\n",
      "inner ran for 0.003624s\n",
      "inner ran for 0.000003s\n",
      "inner ran for 0.003689s\n",
      "inner ran for 0.000004s\n",
      "inner ran for 0.003755s\n",
      "inner ran for 0.000004s\n",
      "inner ran for 0.003821s\n",
      "inner ran for 0.000004s\n",
      "inner ran for 0.003887s\n",
      "inner ran for 0.000004s\n",
      "inner ran for 0.003953s\n",
      "inner ran for 0.000004s\n",
      "inner ran for 0.004020s\n",
      "inner ran for 0.000004s\n",
      "inner ran for 0.004082s\n",
      "inner ran for 0.000004s\n",
      "inner ran for 0.004147s\n",
      "inner ran for 0.000003s\n",
      "inner ran for 0.004208s\n",
      "inner ran for 0.000003s\n",
      "inner ran for 0.004270s\n",
      "inner ran for 0.000003s\n",
      "inner ran for 0.004334s\n",
      "inner ran for 0.000004s\n",
      "inner ran for 0.004399s\n",
      "inner ran for 0.000004s\n",
      "inner ran for 0.004463s\n",
      "inner ran for 0.000004s\n",
      "inner ran for 0.004526s\n",
      "inner ran for 0.000003s\n",
      "inner ran for 0.004590s\n",
      "inner ran for 0.000004s\n",
      "inner ran for 0.004656s\n",
      "inner ran for 0.000004s\n",
      "inner ran for 0.004720s\n",
      "inner ran for 0.000004s\n",
      "inner ran for 0.004784s\n",
      "inner ran for 0.000004s\n",
      "inner ran for 0.004847s\n",
      "inner ran for 0.000003s\n",
      "inner ran for 0.004911s\n",
      "inner ran for 0.000004s\n",
      "inner ran for 0.004974s\n",
      "inner ran for 0.000003s\n",
      "inner ran for 0.005040s\n",
      "inner ran for 0.000004s\n",
      "inner ran for 0.005107s\n",
      "inner ran for 0.000004s\n",
      "inner ran for 0.005172s\n",
      "inner ran for 0.000004s\n",
      "inner ran for 0.005234s\n",
      "inner ran for 0.000004s\n",
      "inner ran for 0.005302s\n",
      "inner ran for 0.000004s\n",
      "inner ran for 0.005367s\n",
      "inner ran for 0.000004s\n",
      "inner ran for 0.005434s\n",
      "inner ran for 0.000004s\n",
      "inner ran for 0.005498s\n",
      "inner ran for 0.000004s\n",
      "inner ran for 0.005560s\n",
      "inner ran for 0.000004s\n",
      "inner ran for 0.005774s\n",
      "inner ran for 0.000013s\n",
      "inner ran for 0.006165s\n",
      "inner ran for 0.000010s\n",
      "inner ran for 0.006321s\n",
      "inner ran for 0.000026s\n",
      "inner ran for 0.006446s\n",
      "inner ran for 0.000006s\n",
      "inner ran for 0.006751s\n",
      "inner ran for 0.000010s\n",
      "inner ran for 0.006851s\n",
      "inner ran for 0.000004s\n",
      "inner ran for 0.006931s\n",
      "inner ran for 0.000004s\n",
      "inner ran for 0.007019s\n",
      "inner ran for 0.000004s\n",
      "inner ran for 0.007112s\n",
      "inner ran for 0.000005s\n",
      "inner ran for 0.007207s\n",
      "inner ran for 0.000004s\n",
      "inner ran for 0.007299s\n",
      "inner ran for 0.000004s\n",
      "inner ran for 0.007389s\n",
      "inner ran for 0.000005s\n",
      "inner ran for 0.007487s\n",
      "inner ran for 0.000004s\n",
      "inner ran for 0.007578s\n",
      "inner ran for 0.000004s\n",
      "inner ran for 0.007670s\n",
      "inner ran for 0.000004s\n",
      "inner ran for 0.007760s\n",
      "inner ran for 0.000017s\n",
      "inner ran for 0.025386s\n",
      "inner ran for 0.000010s\n",
      "inner ran for 0.025690s\n",
      "inner ran for 0.000008s\n",
      "inner ran for 0.025843s\n",
      "inner ran for 0.000005s\n",
      "inner ran for 0.026849s\n",
      "inner ran for 0.000006s\n",
      "inner ran for 0.026927s\n",
      "inner ran for 0.000003s\n",
      "inner ran for 0.026987s\n",
      "inner ran for 0.000003s\n",
      "inner ran for 0.027045s\n",
      "inner ran for 0.000003s\n",
      "inner ran for 0.027104s\n",
      "inner ran for 0.000003s\n",
      "inner ran for 0.027157s\n",
      "inner ran for 0.000003s\n",
      "inner ran for 0.027217s\n",
      "inner ran for 0.000003s\n",
      "inner ran for 0.027276s\n",
      "inner ran for 0.000003s\n",
      "inner ran for 0.027335s\n",
      "inner ran for 0.000002s\n",
      "inner ran for 0.027393s\n",
      "inner ran for 0.000002s\n",
      "inner ran for 0.027451s\n",
      "inner ran for 0.000003s\n",
      "inner ran for 0.027509s\n",
      "inner ran for 0.000003s\n",
      "inner ran for 0.027567s\n",
      "inner ran for 0.000002s\n",
      "inner ran for 0.027624s\n",
      "inner ran for 0.000002s\n",
      "inner ran for 0.027683s\n",
      "inner ran for 0.000003s\n",
      "inner ran for 0.027743s\n",
      "inner ran for 0.000003s\n",
      "inner ran for 0.027805s\n",
      "inner ran for 0.000003s\n",
      "inner ran for 0.027865s\n",
      "inner ran for 0.000003s\n",
      "inner ran for 0.027924s\n",
      "inner ran for 0.000002s\n",
      "inner ran for 0.027975s\n",
      "inner ran for 0.000002s\n",
      "inner ran for 0.028019s\n",
      "inner ran for 0.000003s\n",
      "inner ran for 0.028080s\n",
      "inner ran for 0.000003s\n",
      "inner ran for 0.028139s\n",
      "inner ran for 0.000003s\n",
      "inner ran for 0.028197s\n",
      "inner ran for 0.000003s\n",
      "inner ran for 0.030071s\n",
      "inner ran for 0.000008s\n",
      "inner ran for 0.030167s\n",
      "inner ran for 0.000003s\n",
      "inner ran for 0.030221s\n",
      "inner ran for 0.000002s\n",
      "inner ran for 0.030274s\n",
      "inner ran for 0.000002s\n",
      "inner ran for 0.030323s\n",
      "inner ran for 0.000002s\n",
      "inner ran for 0.030365s\n",
      "inner ran for 0.000002s\n",
      "inner ran for 0.030409s\n",
      "inner ran for 0.000003s\n",
      "inner ran for 0.030473s\n"
     ]
    },
    {
     "data": {
      "text/plain": [
       "354224848179261915075"
      ]
     },
     "execution_count": 28,
     "metadata": {},
     "output_type": "execute_result"
    }
   ],
   "source": [
    "fibo(100)"
   ]
  },
  {
   "cell_type": "code",
   "execution_count": 29,
   "id": "046f1151",
   "metadata": {},
   "outputs": [
    {
     "name": "stdout",
     "output_type": "stream",
     "text": [
      "inner ran for 0.000012s\n"
     ]
    },
    {
     "data": {
      "text/plain": [
       "354224848179261915075"
      ]
     },
     "execution_count": 29,
     "metadata": {},
     "output_type": "execute_result"
    }
   ],
   "source": [
    "fibo(100)"
   ]
  },
  {
   "cell_type": "code",
   "execution_count": 30,
   "id": "5fa7029e",
   "metadata": {},
   "outputs": [
    {
     "name": "stdout",
     "output_type": "stream",
     "text": [
      "inner ran for 0.000002s\n",
      "inner ran for 0.000007s\n",
      "inner ran for 0.002182s\n"
     ]
    },
    {
     "data": {
      "text/plain": [
       "573147844013817084101"
      ]
     },
     "execution_count": 30,
     "metadata": {},
     "output_type": "execute_result"
    }
   ],
   "source": [
    "fibo(101)"
   ]
  },
  {
   "cell_type": "code",
   "execution_count": 31,
   "id": "f52271aa",
   "metadata": {},
   "outputs": [],
   "source": [
    "class Fib:\n",
    "    def __init__(self):\n",
    "        self.cache = {0:0, 1:1}\n",
    "        \n",
    "    def fib(self, n):\n",
    "        if n not in self.cache:\n",
    "            print(f'calculating fib({n})')\n",
    "            self.cache[n] = self.fib(n-1) + self.fib(n-2)\n",
    "        return self.cache[n]"
   ]
  },
  {
   "cell_type": "code",
   "execution_count": 32,
   "id": "135b7318",
   "metadata": {},
   "outputs": [
    {
     "name": "stdout",
     "output_type": "stream",
     "text": [
      "calculating fib(10)\n",
      "calculating fib(9)\n",
      "calculating fib(8)\n",
      "calculating fib(7)\n",
      "calculating fib(6)\n",
      "calculating fib(5)\n",
      "calculating fib(4)\n",
      "calculating fib(3)\n",
      "calculating fib(2)\n"
     ]
    },
    {
     "data": {
      "text/plain": [
       "55"
      ]
     },
     "execution_count": 32,
     "metadata": {},
     "output_type": "execute_result"
    }
   ],
   "source": [
    "f = Fib()\n",
    "f.fib(10)"
   ]
  },
  {
   "cell_type": "code",
   "execution_count": 33,
   "id": "70fa94f3",
   "metadata": {},
   "outputs": [
    {
     "data": {
      "text/plain": [
       "55"
      ]
     },
     "execution_count": 33,
     "metadata": {},
     "output_type": "execute_result"
    }
   ],
   "source": [
    "f.fib(10)"
   ]
  },
  {
   "cell_type": "markdown",
   "id": "d8ff1397",
   "metadata": {},
   "source": [
    "## -----------------------------------------------------------------"
   ]
  },
  {
   "cell_type": "markdown",
   "id": "4a3a320f",
   "metadata": {},
   "source": [
    "## Decorator with arguments"
   ]
  },
  {
   "cell_type": "code",
   "execution_count": 34,
   "id": "53274de4",
   "metadata": {},
   "outputs": [],
   "source": [
    "def timed_with_repitition(n):\n",
    "    from functools import wraps\n",
    "    from time import perf_counter\n",
    "    \n",
    "    def timed(fn):\n",
    "        @wraps(fn)\n",
    "        def inner(*args, **kwargs):\n",
    "            start = perf_counter()\n",
    "            for x in range(n):\n",
    "                result = fn(*args, **kwargs)\n",
    "            end = perf_counter()\n",
    "            print('{0} ran for {1:.6f}s with average of {2:.6f}'.format(fn.__name__, end-start, (end-start)/n))\n",
    "            return result\n",
    "        return inner\n",
    "    return timed"
   ]
  },
  {
   "cell_type": "code",
   "execution_count": 35,
   "id": "0c3a25d4",
   "metadata": {},
   "outputs": [],
   "source": [
    "@timed_with_repitition(10000)\n",
    "def fact1(n):\n",
    "    from operator import mul\n",
    "    from functools import reduce\n",
    "    \n",
    "    return reduce(mul, range(1,n+1))"
   ]
  },
  {
   "cell_type": "code",
   "execution_count": 36,
   "id": "bba0b63f",
   "metadata": {},
   "outputs": [
    {
     "name": "stdout",
     "output_type": "stream",
     "text": [
      "fact1 ran for 1.758128s with average of 0.000176\n"
     ]
    },
    {
     "data": {
      "text/plain": [
       "402387260077093773543702433923003985719374864210714632543799910429938512398629020592044208486969404800479988610197196058631666872994808558901323829669944590997424504087073759918823627727188732519779505950995276120874975462497043601418278094646496291056393887437886487337119181045825783647849977012476632889835955735432513185323958463075557409114262417474349347553428646576611667797396668820291207379143853719588249808126867838374559731746136085379534524221586593201928090878297308431392844403281231558611036976801357304216168747609675871348312025478589320767169132448426236131412508780208000261683151027341827977704784635868170164365024153691398281264810213092761244896359928705114964975419909342221566832572080821333186116811553615836546984046708975602900950537616475847728421889679646244945160765353408198901385442487984959953319101723355556602139450399736280750137837615307127761926849034352625200015888535147331611702103968175921510907788019393178114194545257223865541461062892187960223838971476088506276862967146674697562911234082439208160153780889893964518263243671616762179168909779911903754031274622289988005195444414282012187361745992642956581746628302955570299024324153181617210465832036786906117260158783520751516284225540265170483304226143974286933061690897968482590125458327168226458066526769958652682272807075781391858178889652208164348344825993266043367660176999612831860788386150279465955131156552036093988180612138558600301435694527224206344631797460594682573103790084024432438465657245014402821885252470935190620929023136493273497565513958720559654228749774011413346962715422845862377387538230483865688976461927383814900140767310446640259899490222221765904339901886018566526485061799702356193897017860040811889729918311021171229845901641921068884387121855646124960798722908519296819372388642614839657382291123125024186649353143970137428531926649875337218940694281434118520158014123344828015051399694290153483077644569099073152433278288269864602789864321139083506217095002597389863554277196742822248757586765752344220207573630569498825087968928162753848863396909959826280956121450994871701244516461260379029309120889086942028510640182154399457156805941872748998094254742173582401063677404595741785160829230135358081840096996372524230560855903700624271243416909004153690105933983835777939410970027753472000000000000000000000000000000000000000000000000000000000000000000000000000000000000000000000000000000000000000000000000000000000000000000000000000000000000000000000000000000000000000000000000000000000000000000000000000000000000000000000000000000000"
      ]
     },
     "execution_count": 36,
     "metadata": {},
     "output_type": "execute_result"
    }
   ],
   "source": [
    "fact1(1000)"
   ]
  },
  {
   "cell_type": "code",
   "execution_count": 37,
   "id": "b3df90e9",
   "metadata": {},
   "outputs": [],
   "source": [
    "@timed_with_repitition(10000)\n",
    "@caching\n",
    "def fact1(n):\n",
    "    from operator import mul\n",
    "    from functools import reduce\n",
    "    \n",
    "    return reduce(mul, range(1,n+1))"
   ]
  },
  {
   "cell_type": "code",
   "execution_count": 38,
   "id": "f2e2be97",
   "metadata": {},
   "outputs": [
    {
     "name": "stdout",
     "output_type": "stream",
     "text": [
      "inner ran for 0.008178s with average of 0.000001\n"
     ]
    },
    {
     "data": {
      "text/plain": [
       "402387260077093773543702433923003985719374864210714632543799910429938512398629020592044208486969404800479988610197196058631666872994808558901323829669944590997424504087073759918823627727188732519779505950995276120874975462497043601418278094646496291056393887437886487337119181045825783647849977012476632889835955735432513185323958463075557409114262417474349347553428646576611667797396668820291207379143853719588249808126867838374559731746136085379534524221586593201928090878297308431392844403281231558611036976801357304216168747609675871348312025478589320767169132448426236131412508780208000261683151027341827977704784635868170164365024153691398281264810213092761244896359928705114964975419909342221566832572080821333186116811553615836546984046708975602900950537616475847728421889679646244945160765353408198901385442487984959953319101723355556602139450399736280750137837615307127761926849034352625200015888535147331611702103968175921510907788019393178114194545257223865541461062892187960223838971476088506276862967146674697562911234082439208160153780889893964518263243671616762179168909779911903754031274622289988005195444414282012187361745992642956581746628302955570299024324153181617210465832036786906117260158783520751516284225540265170483304226143974286933061690897968482590125458327168226458066526769958652682272807075781391858178889652208164348344825993266043367660176999612831860788386150279465955131156552036093988180612138558600301435694527224206344631797460594682573103790084024432438465657245014402821885252470935190620929023136493273497565513958720559654228749774011413346962715422845862377387538230483865688976461927383814900140767310446640259899490222221765904339901886018566526485061799702356193897017860040811889729918311021171229845901641921068884387121855646124960798722908519296819372388642614839657382291123125024186649353143970137428531926649875337218940694281434118520158014123344828015051399694290153483077644569099073152433278288269864602789864321139083506217095002597389863554277196742822248757586765752344220207573630569498825087968928162753848863396909959826280956121450994871701244516461260379029309120889086942028510640182154399457156805941872748998094254742173582401063677404595741785160829230135358081840096996372524230560855903700624271243416909004153690105933983835777939410970027753472000000000000000000000000000000000000000000000000000000000000000000000000000000000000000000000000000000000000000000000000000000000000000000000000000000000000000000000000000000000000000000000000000000000000000000000000000000000000000000000000000000000"
      ]
     },
     "execution_count": 38,
     "metadata": {},
     "output_type": "execute_result"
    }
   ],
   "source": [
    "fact1(1000)"
   ]
  },
  {
   "cell_type": "code",
   "execution_count": null,
   "id": "a7dc956f",
   "metadata": {},
   "outputs": [],
   "source": []
  },
  {
   "cell_type": "code",
   "execution_count": null,
   "id": "44a54e66",
   "metadata": {},
   "outputs": [],
   "source": []
  }
 ],
 "metadata": {
  "kernelspec": {
   "display_name": "Python 3 (ipykernel)",
   "language": "python",
   "name": "python3"
  },
  "language_info": {
   "codemirror_mode": {
    "name": "ipython",
    "version": 3
   },
   "file_extension": ".py",
   "mimetype": "text/x-python",
   "name": "python",
   "nbconvert_exporter": "python",
   "pygments_lexer": "ipython3",
   "version": "3.9.5"
  }
 },
 "nbformat": 4,
 "nbformat_minor": 5
}
