{
 "cells": [
  {
   "cell_type": "markdown",
   "id": "2ef8189e",
   "metadata": {},
   "source": [
    "# Decorator Application"
   ]
  },
  {
   "cell_type": "markdown",
   "id": "2d55c5a6",
   "metadata": {},
   "source": [
    "## Log and timing"
   ]
  },
  {
   "cell_type": "code",
   "execution_count": 168,
   "id": "96aadb12",
   "metadata": {},
   "outputs": [],
   "source": [
    "def logged(fn):\n",
    "    from functools import wraps\n",
    "    from datetime import datetime, timezone\n",
    "    \n",
    "    @wraps(fn)\n",
    "    def inner(*args, **kwargs):\n",
    "        run_dt = datetime.now(timezone.utc)\n",
    "        result = fn(*args, **kwargs)\n",
    "        print(f'{run_dt}: called {fn.__name__}')\n",
    "        return result\n",
    "    \n",
    "    return inner"
   ]
  },
  {
   "cell_type": "code",
   "execution_count": 30,
   "id": "b15447ba",
   "metadata": {},
   "outputs": [],
   "source": [
    "@logged\n",
    "def func1():\n",
    "    x = 10\n",
    "    pass"
   ]
  },
  {
   "cell_type": "code",
   "execution_count": 41,
   "id": "df2eef9a",
   "metadata": {},
   "outputs": [],
   "source": [
    "def timed(fn):\n",
    "    from functools import wraps\n",
    "    from time import perf_counter\n",
    "    \n",
    "    @wraps(fn)\n",
    "    def inner(*args, **kwargs):\n",
    "        start = perf_counter()\n",
    "        result = fn(*args, **kwargs)\n",
    "        end = perf_counter()\n",
    "        print('{0} ran for {1:.6f}s'.format(fn.__name__, end-start))\n",
    "        return result\n",
    "    \n",
    "    return inner"
   ]
  },
  {
   "cell_type": "code",
   "execution_count": 47,
   "id": "6a9fde73",
   "metadata": {},
   "outputs": [],
   "source": [
    "@logged\n",
    "@timed\n",
    "def fact(n):\n",
    "    from operator import mul\n",
    "    from functools import reduce\n",
    "    \n",
    "    return reduce(mul, range(1,n+1))"
   ]
  },
  {
   "cell_type": "code",
   "execution_count": 48,
   "id": "d5b1c980",
   "metadata": {},
   "outputs": [
    {
     "name": "stdout",
     "output_type": "stream",
     "text": [
      "fact ran for 0.000018s\n",
      "2021-11-08 04:45:02.787760+00:00: called fact\n"
     ]
    },
    {
     "data": {
      "text/plain": [
       "120"
      ]
     },
     "execution_count": 48,
     "metadata": {},
     "output_type": "execute_result"
    }
   ],
   "source": [
    "fact(5)"
   ]
  },
  {
   "cell_type": "code",
   "execution_count": 49,
   "id": "1cf95a0a",
   "metadata": {},
   "outputs": [
    {
     "name": "stdout",
     "output_type": "stream",
     "text": [
      "fact ran for 0.000008s\n",
      "2021-11-08 04:45:03.927608+00:00: called fact\n"
     ]
    },
    {
     "data": {
      "text/plain": [
       "3628800"
      ]
     },
     "execution_count": 49,
     "metadata": {},
     "output_type": "execute_result"
    }
   ],
   "source": [
    "fact(10)"
   ]
  },
  {
   "cell_type": "markdown",
   "id": "41e2c60f",
   "metadata": {},
   "source": [
    "### -----------------------------------------------------------------"
   ]
  },
  {
   "cell_type": "markdown",
   "id": "af6ff280",
   "metadata": {},
   "source": [
    "## Caching"
   ]
  },
  {
   "cell_type": "code",
   "execution_count": 157,
   "id": "b133899e",
   "metadata": {},
   "outputs": [],
   "source": [
    "def caching(fn):\n",
    "\n",
    "    cache = {}\n",
    "    def inner(*args, **kwargs):\n",
    "        args_key = str(args) + str(kwargs)\n",
    "        if (args_key not in cache):\n",
    "            #print(\"Calculate the first time!!\")\n",
    "            result = fn(*args, **kwargs)\n",
    "            cache[args_key] = result\n",
    "        #else:\n",
    "            #print(\"Got you!!!\")\n",
    "        return cache[args_key]\n",
    "    \n",
    "    return inner"
   ]
  },
  {
   "cell_type": "code",
   "execution_count": 127,
   "id": "14536e24",
   "metadata": {},
   "outputs": [],
   "source": [
    "# @logged\n",
    "@timed\n",
    "@caching\n",
    "def fibo(n):\n",
    "    #print(\"running the function\")\n",
    "    \n",
    "    if (n < 0):\n",
    "        result = -1\n",
    "    elif (n < 2):\n",
    "        result = n\n",
    "    else:\n",
    "        # will re-caculate fibo(n-1) and fibo(n-2) so many times without caching\n",
    "        result = fibo(n-1) + fibo(n-2)\n",
    "    return result"
   ]
  },
  {
   "cell_type": "code",
   "execution_count": 128,
   "id": "98f28079",
   "metadata": {},
   "outputs": [
    {
     "name": "stdout",
     "output_type": "stream",
     "text": [
      "Calculate the first time!!\n",
      "Calculate the first time!!\n",
      "Calculate the first time!!\n",
      "Calculate the first time!!\n",
      "Calculate the first time!!\n",
      "Calculate the first time!!\n",
      "Calculate the first time!!\n",
      "Calculate the first time!!\n",
      "Calculate the first time!!\n",
      "Calculate the first time!!\n",
      "Calculate the first time!!\n",
      "Calculate the first time!!\n",
      "Calculate the first time!!\n",
      "Calculate the first time!!\n",
      "Calculate the first time!!\n",
      "Calculate the first time!!\n",
      "Calculate the first time!!\n",
      "Calculate the first time!!\n",
      "Calculate the first time!!\n",
      "Calculate the first time!!\n",
      "Calculate the first time!!\n",
      "Calculate the first time!!\n",
      "Calculate the first time!!\n",
      "Calculate the first time!!\n",
      "Calculate the first time!!\n",
      "Calculate the first time!!\n",
      "Calculate the first time!!\n",
      "Calculate the first time!!\n",
      "Calculate the first time!!\n",
      "Calculate the first time!!\n",
      "Calculate the first time!!\n",
      "Calculate the first time!!\n",
      "Calculate the first time!!\n",
      "Calculate the first time!!\n",
      "Calculate the first time!!\n",
      "Calculate the first time!!\n",
      "Calculate the first time!!\n",
      "Calculate the first time!!\n",
      "Calculate the first time!!\n",
      "Calculate the first time!!\n",
      "Calculate the first time!!\n",
      "Calculate the first time!!\n",
      "Calculate the first time!!\n",
      "Calculate the first time!!\n",
      "Calculate the first time!!\n",
      "Calculate the first time!!\n",
      "Calculate the first time!!\n",
      "Calculate the first time!!\n",
      "Calculate the first time!!\n",
      "Calculate the first time!!\n",
      "Calculate the first time!!\n",
      "Calculate the first time!!\n",
      "Calculate the first time!!\n",
      "Calculate the first time!!\n",
      "Calculate the first time!!\n",
      "Calculate the first time!!\n",
      "Calculate the first time!!\n",
      "Calculate the first time!!\n",
      "Calculate the first time!!\n",
      "Calculate the first time!!\n",
      "Calculate the first time!!\n",
      "Calculate the first time!!\n",
      "Calculate the first time!!\n",
      "Calculate the first time!!\n",
      "Calculate the first time!!\n",
      "Calculate the first time!!\n",
      "Calculate the first time!!\n",
      "Calculate the first time!!\n",
      "Calculate the first time!!\n",
      "Calculate the first time!!\n",
      "Calculate the first time!!\n",
      "Calculate the first time!!\n",
      "Calculate the first time!!\n",
      "Calculate the first time!!\n",
      "Calculate the first time!!\n",
      "Calculate the first time!!\n",
      "Calculate the first time!!\n",
      "Calculate the first time!!\n",
      "Calculate the first time!!\n",
      "Calculate the first time!!\n",
      "Calculate the first time!!\n",
      "Calculate the first time!!\n",
      "Calculate the first time!!\n",
      "Calculate the first time!!\n",
      "Calculate the first time!!\n",
      "Calculate the first time!!\n",
      "Calculate the first time!!\n",
      "Calculate the first time!!\n",
      "Calculate the first time!!\n",
      "Calculate the first time!!\n",
      "Calculate the first time!!\n",
      "Calculate the first time!!\n",
      "Calculate the first time!!\n",
      "Calculate the first time!!\n",
      "Calculate the first time!!\n",
      "Calculate the first time!!\n",
      "Calculate the first time!!\n",
      "Calculate the first time!!\n",
      "Calculate the first time!!\n",
      "Calculate the first time!!\n",
      "inner ran for 0.000016s\n",
      "Calculate the first time!!\n",
      "inner ran for 0.000016s\n",
      "inner ran for 0.000087s\n",
      "Got you!!!\n",
      "inner ran for 0.000016s\n",
      "inner ran for 0.000149s\n",
      "Got you!!!\n",
      "inner ran for 0.000015s\n",
      "inner ran for 0.000207s\n",
      "Got you!!!\n",
      "inner ran for 0.000014s\n",
      "inner ran for 0.000265s\n",
      "Got you!!!\n",
      "inner ran for 0.000016s\n",
      "inner ran for 0.000324s\n",
      "Got you!!!\n",
      "inner ran for 0.000014s\n",
      "inner ran for 0.000382s\n",
      "Got you!!!\n",
      "inner ran for 0.000014s\n",
      "inner ran for 0.000536s\n",
      "Got you!!!\n",
      "inner ran for 0.000014s\n",
      "inner ran for 0.000594s\n",
      "Got you!!!\n",
      "inner ran for 0.000014s\n",
      "inner ran for 0.000652s\n",
      "Got you!!!\n",
      "inner ran for 0.000015s\n",
      "inner ran for 0.000710s\n",
      "Got you!!!\n",
      "inner ran for 0.000014s\n",
      "inner ran for 0.000769s\n",
      "Got you!!!\n",
      "inner ran for 0.004342s\n",
      "inner ran for 0.005169s\n",
      "Got you!!!\n",
      "inner ran for 0.000019s\n",
      "inner ran for 0.005228s\n",
      "Got you!!!\n",
      "inner ran for 0.000011s\n",
      "inner ran for 0.005280s\n",
      "Got you!!!\n",
      "inner ran for 0.000013s\n",
      "inner ran for 0.005334s\n",
      "Got you!!!\n",
      "inner ran for 0.000013s\n",
      "inner ran for 0.005387s\n",
      "Got you!!!\n",
      "inner ran for 0.000011s\n",
      "inner ran for 0.005447s\n",
      "Got you!!!\n",
      "inner ran for 0.000283s\n",
      "inner ran for 0.006753s\n",
      "Got you!!!\n",
      "inner ran for 0.000044s\n",
      "inner ran for 0.007578s\n",
      "Got you!!!\n",
      "inner ran for 0.000018s\n",
      "inner ran for 0.007647s\n",
      "Got you!!!\n",
      "inner ran for 0.000017s\n",
      "inner ran for 0.007711s\n",
      "Got you!!!\n",
      "inner ran for 0.000028s\n",
      "inner ran for 0.008535s\n",
      "Got you!!!\n",
      "inner ran for 0.000016s\n",
      "inner ran for 0.008598s\n",
      "Got you!!!\n",
      "inner ran for 0.000018s\n",
      "inner ran for 0.008664s\n",
      "Got you!!!\n",
      "inner ran for 0.000016s\n",
      "inner ran for 0.008726s\n",
      "Got you!!!\n",
      "inner ran for 0.000015s\n",
      "inner ran for 0.008789s\n",
      "Got you!!!\n",
      "inner ran for 0.000015s\n",
      "inner ran for 0.008851s\n",
      "Got you!!!\n",
      "inner ran for 0.000016s\n",
      "inner ran for 0.008912s\n",
      "Got you!!!\n",
      "inner ran for 0.000015s\n",
      "inner ran for 0.008973s\n",
      "Got you!!!\n",
      "inner ran for 0.000015s\n",
      "inner ran for 0.009034s\n",
      "Got you!!!\n",
      "inner ran for 0.000015s\n",
      "inner ran for 0.010902s\n",
      "Got you!!!\n",
      "inner ran for 0.000027s\n",
      "inner ran for 0.011064s\n",
      "Got you!!!\n",
      "inner ran for 0.000016s\n",
      "inner ran for 0.011122s\n",
      "Got you!!!\n",
      "inner ran for 0.000016s\n",
      "inner ran for 0.011178s\n",
      "Got you!!!\n",
      "inner ran for 0.000015s\n",
      "inner ran for 0.011235s\n",
      "Got you!!!\n",
      "inner ran for 0.000015s\n",
      "inner ran for 0.011293s\n",
      "Got you!!!\n",
      "inner ran for 0.000016s\n",
      "inner ran for 0.011352s\n",
      "Got you!!!\n",
      "inner ran for 0.000016s\n",
      "inner ran for 0.011423s\n",
      "Got you!!!\n",
      "inner ran for 0.000016s\n",
      "inner ran for 0.014341s\n",
      "Got you!!!\n",
      "inner ran for 0.000028s\n",
      "inner ran for 0.016610s\n",
      "Got you!!!\n",
      "inner ran for 0.000016s\n",
      "inner ran for 0.016680s\n",
      "Got you!!!\n",
      "inner ran for 0.000016s\n",
      "inner ran for 0.016748s\n",
      "Got you!!!\n",
      "inner ran for 0.000015s\n",
      "inner ran for 0.016814s\n",
      "Got you!!!\n",
      "inner ran for 0.000015s\n",
      "inner ran for 0.016874s\n",
      "Got you!!!\n",
      "inner ran for 0.000015s\n",
      "inner ran for 0.016935s\n",
      "Got you!!!\n",
      "inner ran for 0.000015s\n",
      "inner ran for 0.016998s\n",
      "Got you!!!\n",
      "inner ran for 0.000014s\n",
      "inner ran for 0.017058s\n",
      "Got you!!!\n",
      "inner ran for 0.000015s\n",
      "inner ran for 0.017116s\n",
      "Got you!!!\n",
      "inner ran for 0.000014s\n",
      "inner ran for 0.017174s\n",
      "Got you!!!\n",
      "inner ran for 0.000014s\n",
      "inner ran for 0.017234s\n",
      "Got you!!!\n",
      "inner ran for 0.001970s\n",
      "inner ran for 0.019256s\n",
      "Got you!!!\n",
      "inner ran for 0.000018s\n",
      "inner ran for 0.019322s\n",
      "Got you!!!\n",
      "inner ran for 0.000015s\n",
      "inner ran for 0.019382s\n",
      "Got you!!!\n",
      "inner ran for 0.000015s\n",
      "inner ran for 0.019443s\n",
      "Got you!!!\n",
      "inner ran for 0.000016s\n",
      "inner ran for 0.019504s\n",
      "Got you!!!\n",
      "inner ran for 0.000016s\n",
      "inner ran for 0.019577s\n",
      "Got you!!!\n",
      "inner ran for 0.000016s\n",
      "inner ran for 0.019637s\n",
      "Got you!!!\n",
      "inner ran for 0.000016s\n",
      "inner ran for 0.019696s\n",
      "Got you!!!\n",
      "inner ran for 0.000015s\n",
      "inner ran for 0.019755s\n",
      "Got you!!!\n",
      "inner ran for 0.000016s\n",
      "inner ran for 0.019814s\n",
      "Got you!!!\n",
      "inner ran for 0.000015s\n",
      "inner ran for 0.019873s\n",
      "Got you!!!\n",
      "inner ran for 0.000015s\n",
      "inner ran for 0.019932s\n",
      "Got you!!!\n",
      "inner ran for 0.000015s\n",
      "inner ran for 0.019990s\n",
      "Got you!!!\n",
      "inner ran for 0.000016s\n",
      "inner ran for 0.020050s\n",
      "Got you!!!\n",
      "inner ran for 0.000015s\n",
      "inner ran for 0.020110s\n",
      "Got you!!!\n",
      "inner ran for 0.000015s\n",
      "inner ran for 0.020169s\n",
      "Got you!!!\n",
      "inner ran for 0.000015s\n",
      "inner ran for 0.020228s\n",
      "Got you!!!\n",
      "inner ran for 0.000015s\n",
      "inner ran for 0.020286s\n",
      "Got you!!!\n",
      "inner ran for 0.000015s\n",
      "inner ran for 0.020345s\n",
      "Got you!!!\n",
      "inner ran for 0.000015s\n",
      "inner ran for 0.020403s\n",
      "Got you!!!\n",
      "inner ran for 0.000020s\n",
      "inner ran for 0.020463s\n",
      "Got you!!!\n",
      "inner ran for 0.000011s\n",
      "inner ran for 0.020508s\n",
      "Got you!!!\n",
      "inner ran for 0.000015s\n",
      "inner ran for 0.020568s\n",
      "Got you!!!\n",
      "inner ran for 0.000016s\n",
      "inner ran for 0.020631s\n",
      "Got you!!!\n",
      "inner ran for 0.000015s\n",
      "inner ran for 0.020695s\n",
      "Got you!!!\n",
      "inner ran for 0.000015s\n",
      "inner ran for 0.020756s\n",
      "Got you!!!\n",
      "inner ran for 0.000011s\n",
      "inner ran for 0.020807s\n",
      "Got you!!!\n",
      "inner ran for 0.000010s\n",
      "inner ran for 0.020850s\n",
      "Got you!!!\n",
      "inner ran for 0.000010s\n",
      "inner ran for 0.020893s\n",
      "Got you!!!\n",
      "inner ran for 0.000010s\n",
      "inner ran for 0.020936s\n",
      "Got you!!!\n",
      "inner ran for 0.000011s\n",
      "inner ran for 0.020981s\n",
      "Got you!!!\n",
      "inner ran for 0.000010s\n",
      "inner ran for 0.021024s\n",
      "Got you!!!\n",
      "inner ran for 0.000010s\n",
      "inner ran for 0.021067s\n",
      "Got you!!!\n",
      "inner ran for 0.000010s\n",
      "inner ran for 0.021114s\n",
      "Got you!!!\n",
      "inner ran for 0.000010s\n",
      "inner ran for 0.021164s\n",
      "Got you!!!\n",
      "inner ran for 0.000011s\n",
      "inner ran for 0.021208s\n",
      "Got you!!!\n",
      "inner ran for 0.000010s\n",
      "inner ran for 0.021253s\n",
      "Got you!!!\n",
      "inner ran for 0.000043s\n",
      "inner ran for 0.027850s\n",
      "Got you!!!\n",
      "inner ran for 0.000016s\n",
      "inner ran for 0.027914s\n",
      "Got you!!!\n",
      "inner ran for 0.000015s\n",
      "inner ran for 0.027972s\n",
      "Got you!!!\n",
      "inner ran for 0.000014s\n",
      "inner ran for 0.028030s\n",
      "Got you!!!\n",
      "inner ran for 0.000015s\n",
      "inner ran for 0.028091s\n",
      "Got you!!!\n",
      "inner ran for 0.000015s\n",
      "inner ran for 0.028149s\n",
      "Got you!!!\n",
      "inner ran for 0.000014s\n",
      "inner ran for 0.028207s\n",
      "Got you!!!\n",
      "inner ran for 0.000014s\n",
      "inner ran for 0.028264s\n",
      "Got you!!!\n",
      "inner ran for 0.000015s\n",
      "inner ran for 0.028325s\n",
      "Got you!!!\n",
      "inner ran for 0.000014s\n",
      "inner ran for 0.028686s\n",
      "Got you!!!\n",
      "inner ran for 0.000014s\n",
      "inner ran for 0.029481s\n",
      "Got you!!!\n",
      "inner ran for 0.000015s\n",
      "inner ran for 0.029623s\n"
     ]
    },
    {
     "data": {
      "text/plain": [
       "354224848179261915075"
      ]
     },
     "execution_count": 128,
     "metadata": {},
     "output_type": "execute_result"
    }
   ],
   "source": [
    "fibo(100)"
   ]
  },
  {
   "cell_type": "code",
   "execution_count": 129,
   "id": "046f1151",
   "metadata": {},
   "outputs": [
    {
     "name": "stdout",
     "output_type": "stream",
     "text": [
      "Got you!!!\n",
      "inner ran for 0.000078s\n"
     ]
    },
    {
     "data": {
      "text/plain": [
       "354224848179261915075"
      ]
     },
     "execution_count": 129,
     "metadata": {},
     "output_type": "execute_result"
    }
   ],
   "source": [
    "fibo(100)"
   ]
  },
  {
   "cell_type": "code",
   "execution_count": 130,
   "id": "5fa7029e",
   "metadata": {},
   "outputs": [
    {
     "name": "stdout",
     "output_type": "stream",
     "text": [
      "Calculate the first time!!\n",
      "Got you!!!\n",
      "inner ran for 0.000361s\n",
      "Got you!!!\n",
      "inner ran for 0.000018s\n",
      "inner ran for 0.000535s\n"
     ]
    },
    {
     "data": {
      "text/plain": [
       "573147844013817084101"
      ]
     },
     "execution_count": 130,
     "metadata": {},
     "output_type": "execute_result"
    }
   ],
   "source": [
    "fibo(101)"
   ]
  },
  {
   "cell_type": "code",
   "execution_count": 131,
   "id": "f52271aa",
   "metadata": {},
   "outputs": [],
   "source": [
    "class Fib:\n",
    "    def __init__(self):\n",
    "        self.cache = {0:0, 1:1}\n",
    "        \n",
    "    def fib(self, n):\n",
    "        if n not in self.cache:\n",
    "            print(f'calculating fib({n})')\n",
    "            self.cache[n] = self.fib(n-1) + self.fib(n-2)\n",
    "        return self.cache[n]"
   ]
  },
  {
   "cell_type": "code",
   "execution_count": 132,
   "id": "135b7318",
   "metadata": {},
   "outputs": [
    {
     "name": "stdout",
     "output_type": "stream",
     "text": [
      "calculating fib(10)\n",
      "calculating fib(9)\n",
      "calculating fib(8)\n",
      "calculating fib(7)\n",
      "calculating fib(6)\n",
      "calculating fib(5)\n",
      "calculating fib(4)\n",
      "calculating fib(3)\n",
      "calculating fib(2)\n"
     ]
    },
    {
     "data": {
      "text/plain": [
       "55"
      ]
     },
     "execution_count": 132,
     "metadata": {},
     "output_type": "execute_result"
    }
   ],
   "source": [
    "f = Fib()\n",
    "f.fib(10)"
   ]
  },
  {
   "cell_type": "code",
   "execution_count": 133,
   "id": "70fa94f3",
   "metadata": {},
   "outputs": [
    {
     "data": {
      "text/plain": [
       "55"
      ]
     },
     "execution_count": 133,
     "metadata": {},
     "output_type": "execute_result"
    }
   ],
   "source": [
    "f.fib(10)"
   ]
  },
  {
   "cell_type": "markdown",
   "id": "d8ff1397",
   "metadata": {},
   "source": [
    "## -----------------------------------------------------------------"
   ]
  },
  {
   "cell_type": "markdown",
   "id": "4a3a320f",
   "metadata": {},
   "source": [
    "## Decorator with arguments"
   ]
  },
  {
   "cell_type": "code",
   "execution_count": 141,
   "id": "53274de4",
   "metadata": {},
   "outputs": [],
   "source": [
    "def timed_with_repitition(n):\n",
    "    from functools import wraps\n",
    "    from time import perf_counter\n",
    "    \n",
    "    def timed(fn):\n",
    "        @wraps(fn)\n",
    "        def inner(*args, **kwargs):\n",
    "            start = perf_counter()\n",
    "            for x in range(n):\n",
    "                result = fn(*args, **kwargs)\n",
    "            end = perf_counter()\n",
    "            print('{0} ran for {1:.6f}s with average of {2:.6f}'.format(fn.__name__, end-start, (end-start)/n))\n",
    "            return result\n",
    "        return inner\n",
    "    return timed"
   ]
  },
  {
   "cell_type": "code",
   "execution_count": 163,
   "id": "0c3a25d4",
   "metadata": {},
   "outputs": [],
   "source": [
    "@timed_with_repitition(10000)\n",
    "def fact1(n):\n",
    "    from operator import mul\n",
    "    from functools import reduce\n",
    "    \n",
    "    return reduce(mul, range(1,n+1))"
   ]
  },
  {
   "cell_type": "code",
   "execution_count": 164,
   "id": "bba0b63f",
   "metadata": {},
   "outputs": [
    {
     "name": "stdout",
     "output_type": "stream",
     "text": [
      "fact1 ran for 1.795918s with average of 0.000180\n"
     ]
    },
    {
     "data": {
      "text/plain": [
       "402387260077093773543702433923003985719374864210714632543799910429938512398629020592044208486969404800479988610197196058631666872994808558901323829669944590997424504087073759918823627727188732519779505950995276120874975462497043601418278094646496291056393887437886487337119181045825783647849977012476632889835955735432513185323958463075557409114262417474349347553428646576611667797396668820291207379143853719588249808126867838374559731746136085379534524221586593201928090878297308431392844403281231558611036976801357304216168747609675871348312025478589320767169132448426236131412508780208000261683151027341827977704784635868170164365024153691398281264810213092761244896359928705114964975419909342221566832572080821333186116811553615836546984046708975602900950537616475847728421889679646244945160765353408198901385442487984959953319101723355556602139450399736280750137837615307127761926849034352625200015888535147331611702103968175921510907788019393178114194545257223865541461062892187960223838971476088506276862967146674697562911234082439208160153780889893964518263243671616762179168909779911903754031274622289988005195444414282012187361745992642956581746628302955570299024324153181617210465832036786906117260158783520751516284225540265170483304226143974286933061690897968482590125458327168226458066526769958652682272807075781391858178889652208164348344825993266043367660176999612831860788386150279465955131156552036093988180612138558600301435694527224206344631797460594682573103790084024432438465657245014402821885252470935190620929023136493273497565513958720559654228749774011413346962715422845862377387538230483865688976461927383814900140767310446640259899490222221765904339901886018566526485061799702356193897017860040811889729918311021171229845901641921068884387121855646124960798722908519296819372388642614839657382291123125024186649353143970137428531926649875337218940694281434118520158014123344828015051399694290153483077644569099073152433278288269864602789864321139083506217095002597389863554277196742822248757586765752344220207573630569498825087968928162753848863396909959826280956121450994871701244516461260379029309120889086942028510640182154399457156805941872748998094254742173582401063677404595741785160829230135358081840096996372524230560855903700624271243416909004153690105933983835777939410970027753472000000000000000000000000000000000000000000000000000000000000000000000000000000000000000000000000000000000000000000000000000000000000000000000000000000000000000000000000000000000000000000000000000000000000000000000000000000000000000000000000000000000"
      ]
     },
     "execution_count": 164,
     "metadata": {},
     "output_type": "execute_result"
    }
   ],
   "source": [
    "fact1(1000)"
   ]
  },
  {
   "cell_type": "code",
   "execution_count": 165,
   "id": "b3df90e9",
   "metadata": {},
   "outputs": [],
   "source": [
    "@timed_with_repitition(10000)\n",
    "@caching\n",
    "def fact1(n):\n",
    "    from operator import mul\n",
    "    from functools import reduce\n",
    "    \n",
    "    return reduce(mul, range(1,n+1))"
   ]
  },
  {
   "cell_type": "code",
   "execution_count": 166,
   "id": "f2e2be97",
   "metadata": {},
   "outputs": [
    {
     "name": "stdout",
     "output_type": "stream",
     "text": [
      "inner ran for 0.009164s with average of 0.000001\n"
     ]
    },
    {
     "data": {
      "text/plain": [
       "402387260077093773543702433923003985719374864210714632543799910429938512398629020592044208486969404800479988610197196058631666872994808558901323829669944590997424504087073759918823627727188732519779505950995276120874975462497043601418278094646496291056393887437886487337119181045825783647849977012476632889835955735432513185323958463075557409114262417474349347553428646576611667797396668820291207379143853719588249808126867838374559731746136085379534524221586593201928090878297308431392844403281231558611036976801357304216168747609675871348312025478589320767169132448426236131412508780208000261683151027341827977704784635868170164365024153691398281264810213092761244896359928705114964975419909342221566832572080821333186116811553615836546984046708975602900950537616475847728421889679646244945160765353408198901385442487984959953319101723355556602139450399736280750137837615307127761926849034352625200015888535147331611702103968175921510907788019393178114194545257223865541461062892187960223838971476088506276862967146674697562911234082439208160153780889893964518263243671616762179168909779911903754031274622289988005195444414282012187361745992642956581746628302955570299024324153181617210465832036786906117260158783520751516284225540265170483304226143974286933061690897968482590125458327168226458066526769958652682272807075781391858178889652208164348344825993266043367660176999612831860788386150279465955131156552036093988180612138558600301435694527224206344631797460594682573103790084024432438465657245014402821885252470935190620929023136493273497565513958720559654228749774011413346962715422845862377387538230483865688976461927383814900140767310446640259899490222221765904339901886018566526485061799702356193897017860040811889729918311021171229845901641921068884387121855646124960798722908519296819372388642614839657382291123125024186649353143970137428531926649875337218940694281434118520158014123344828015051399694290153483077644569099073152433278288269864602789864321139083506217095002597389863554277196742822248757586765752344220207573630569498825087968928162753848863396909959826280956121450994871701244516461260379029309120889086942028510640182154399457156805941872748998094254742173582401063677404595741785160829230135358081840096996372524230560855903700624271243416909004153690105933983835777939410970027753472000000000000000000000000000000000000000000000000000000000000000000000000000000000000000000000000000000000000000000000000000000000000000000000000000000000000000000000000000000000000000000000000000000000000000000000000000000000000000000000000000000000"
      ]
     },
     "execution_count": 166,
     "metadata": {},
     "output_type": "execute_result"
    }
   ],
   "source": [
    "fact1(1000)"
   ]
  },
  {
   "cell_type": "code",
   "execution_count": null,
   "id": "a7dc956f",
   "metadata": {},
   "outputs": [],
   "source": []
  },
  {
   "cell_type": "code",
   "execution_count": null,
   "id": "44a54e66",
   "metadata": {},
   "outputs": [],
   "source": []
  }
 ],
 "metadata": {
  "kernelspec": {
   "display_name": "Python 3 (ipykernel)",
   "language": "python",
   "name": "python3"
  },
  "language_info": {
   "codemirror_mode": {
    "name": "ipython",
    "version": 3
   },
   "file_extension": ".py",
   "mimetype": "text/x-python",
   "name": "python",
   "nbconvert_exporter": "python",
   "pygments_lexer": "ipython3",
   "version": "3.9.5"
  }
 },
 "nbformat": 4,
 "nbformat_minor": 5
}
