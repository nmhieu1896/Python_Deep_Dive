{
 "cells": [
  {
   "cell_type": "markdown",
   "id": "f10c547b",
   "metadata": {},
   "source": [
    "# Decorator Application  with Class"
   ]
  },
  {
   "cell_type": "code",
   "execution_count": 7,
   "id": "1b0153fe",
   "metadata": {},
   "outputs": [],
   "source": [
    "class CallableClass:\n",
    "    def __init__(self, a, b):\n",
    "        self.a = a\n",
    "        self.b = b\n",
    "    \n",
    "    def __call__(self, fn):\n",
    "        def inner(*args, **kwargs):\n",
    "            print(f\"Scope contain class attribute with a={self.a} and b={self.b}\")\n",
    "            return fn(*args, **kwargs)\n",
    "        return inner"
   ]
  },
  {
   "cell_type": "code",
   "execution_count": 8,
   "id": "82f29732",
   "metadata": {},
   "outputs": [],
   "source": [
    "@CallableClass(100,200)\n",
    "def func(s):\n",
    "    print(f'printing {s}')"
   ]
  },
  {
   "cell_type": "code",
   "execution_count": 9,
   "id": "2b94aac9",
   "metadata": {},
   "outputs": [
    {
     "name": "stdout",
     "output_type": "stream",
     "text": [
      "Scope contain class attribute with a=100 and b=200\n",
      "printing Hello world!\n"
     ]
    }
   ],
   "source": [
    "func(\"Hello world!\")"
   ]
  },
  {
   "cell_type": "markdown",
   "id": "9b8da503",
   "metadata": {},
   "source": [
    "### ------------------------------------------------------------------------------------------------------------------------------------\n"
   ]
  },
  {
   "cell_type": "code",
   "execution_count": 10,
   "id": "c6d0c6e7",
   "metadata": {},
   "outputs": [],
   "source": [
    "from datetime import datetime, timezone"
   ]
  },
  {
   "cell_type": "code",
   "execution_count": 11,
   "id": "c75e17b5",
   "metadata": {},
   "outputs": [],
   "source": [
    "def info(self):\n",
    "        results = []\n",
    "        results.append(f'time: {datetime.now(timezone.utc)}')\n",
    "        results.append(f'Class: {self.__class__.__name__}')\n",
    "        results.append(f'id: {hex(id(self))}')\n",
    "        for k,v in vars(self).items():\n",
    "            results.append(f'{k}: {v}')\n",
    "        return results\n",
    "\n",
    "def debug_decorator(cls):\n",
    "    cls.debug = info\n",
    "    return cls"
   ]
  },
  {
   "cell_type": "code",
   "execution_count": 30,
   "id": "2ae8008d",
   "metadata": {},
   "outputs": [],
   "source": [
    "@debug_decorator\n",
    "class Automobile:\n",
    "    def __init__(self, brand, model, year, max_speed):\n",
    "        self.brand = brand\n",
    "        self.model = model\n",
    "        self.year = year\n",
    "        self.max_speed = max_speed\n",
    "        self._speed = 0\n",
    "    \n",
    "    @property\n",
    "    def speed(self):\n",
    "        return self._speed\n",
    "    \n",
    "    @speed.setter\n",
    "    def speed(self, new_speed):\n",
    "        if new_speed > self.max_speed:\n",
    "            raise ValueError('Nhanh quá bây =.=')\n",
    "        else:\n",
    "            self._speed = new_speed\n",
    "    "
   ]
  },
  {
   "cell_type": "code",
   "execution_count": 31,
   "id": "f6424b74",
   "metadata": {},
   "outputs": [],
   "source": [
    "my_car = Automobile(\"Tesla\", \"Model 3\", 2019, 300)"
   ]
  },
  {
   "cell_type": "code",
   "execution_count": 32,
   "id": "fad84730",
   "metadata": {},
   "outputs": [],
   "source": [
    "my_car.speed = 200"
   ]
  },
  {
   "cell_type": "code",
   "execution_count": 33,
   "id": "f1c961ed",
   "metadata": {},
   "outputs": [
    {
     "data": {
      "text/plain": [
       "['time: 2021-11-08 10:56:22.612781+00:00',\n",
       " 'Class: Automobile',\n",
       " 'id: 0x7ffbc42798e0',\n",
       " 'brand: Tesla',\n",
       " 'model: Model 3',\n",
       " 'year: 2019',\n",
       " 'max_speed: 300',\n",
       " '_speed: 200']"
      ]
     },
     "execution_count": 33,
     "metadata": {},
     "output_type": "execute_result"
    }
   ],
   "source": [
    "my_car.debug()"
   ]
  },
  {
   "cell_type": "markdown",
   "id": "66a8f5af",
   "metadata": {},
   "source": [
    "### ------------------------------------------------------------------------------------------------------------------------------------"
   ]
  },
  {
   "cell_type": "code",
   "execution_count": 34,
   "id": "ba0edfa8",
   "metadata": {},
   "outputs": [],
   "source": [
    "def full_comparation(cls):\n",
    "    if '__eq__' in dir(cls) and '__lt__' in dir(cls):\n",
    "        cls.__le__ = lambda self, other: self < other or self == other\n",
    "        cls.__gt__ = lambda self, other: not (self < other or self == other)\n",
    "        cls.__ge__ = lambda self, other: not (self < other)\n",
    "    return cls"
   ]
  },
  {
   "cell_type": "code",
   "execution_count": 59,
   "id": "6ea2cd83",
   "metadata": {},
   "outputs": [],
   "source": [
    "@full_comparation\n",
    "class Point:\n",
    "    def __init__(self, x, y):\n",
    "        self.x = x\n",
    "        self.y = y\n",
    "    \n",
    "    def __abs__(self):\n",
    "        return (self.x**2 + self.y**2) ** 0.5\n",
    "    \n",
    "    def __repr__(self):\n",
    "        return f'Point({self.x}, {self.y})'\n",
    "    \n",
    "    def __eq__(self, other):\n",
    "        if isinstance(other, Point):\n",
    "            return self.x == other.x and self.y == other.y\n",
    "        else:\n",
    "            NotImplemented\n",
    "    \n",
    "    def __lt__(self, other):\n",
    "        if isinstance(other, Point):\n",
    "            return abs(self) < abs(other)\n",
    "        else:\n",
    "            NotImplemented"
   ]
  },
  {
   "cell_type": "code",
   "execution_count": 60,
   "id": "b317621b",
   "metadata": {},
   "outputs": [],
   "source": [
    "p1, p2, p3, p4 = Point(3,3), Point(2,4), Point(1,5), Point(3,3)"
   ]
  },
  {
   "cell_type": "code",
   "execution_count": 83,
   "id": "3d0f6868",
   "metadata": {},
   "outputs": [
    {
     "name": "stdout",
     "output_type": "stream",
     "text": [
      "False False True True\n",
      "False False True True\n",
      "False True False True True\n",
      "None\n"
     ]
    }
   ],
   "source": [
    "print(p1 > p2, p1 >= p2, p1 < p2, p1 <= p2)\n",
    "print(p2 > p3, p2 >= p3, p2 < p3, p2 <= p3)\n",
    "print(p1 > p4, p1 >= p4, p1 < p4, p1 <= p4, p1 == p4)\n",
    "print(p1 == 5)"
   ]
  },
  {
   "cell_type": "code",
   "execution_count": 65,
   "id": "3111697d",
   "metadata": {},
   "outputs": [],
   "source": [
    "from functools import total_ordering"
   ]
  },
  {
   "cell_type": "code",
   "execution_count": 79,
   "id": "d4d3cc28",
   "metadata": {},
   "outputs": [],
   "source": [
    "@total_ordering\n",
    "class Point:\n",
    "    def __init__(self, x, y):\n",
    "        self.x = x\n",
    "        self.y = y\n",
    "    \n",
    "    def __abs__(self):\n",
    "        return (self.x**2 + self.y**2) ** 0.5\n",
    "    \n",
    "    def __repr__(self):\n",
    "        return f'Point({self.x}, {self.y})'\n",
    "    \n",
    "    def __eq__(self, other):\n",
    "        if isinstance(other, Point):\n",
    "            return self.x == other.x and self.y == other.y\n",
    "        else:\n",
    "            NotImplemented\n",
    "    \n",
    "    def __lt__(self, other):\n",
    "        if isinstance(other, Point):\n",
    "            return abs(self) < abs(other)\n",
    "        else:\n",
    "            NotImplemented"
   ]
  },
  {
   "cell_type": "code",
   "execution_count": 81,
   "id": "b88e1122",
   "metadata": {},
   "outputs": [],
   "source": [
    "p1, p2, p3, p4 = Point(3,3), Point(2,4), Point(1,5), Point(3,3)"
   ]
  },
  {
   "cell_type": "code",
   "execution_count": 82,
   "id": "ac724b1b",
   "metadata": {},
   "outputs": [
    {
     "name": "stdout",
     "output_type": "stream",
     "text": [
      "False False True True\n",
      "False False True True\n",
      "False True False True True\n",
      "None\n"
     ]
    }
   ],
   "source": [
    "print(p1 > p2, p1 >= p2, p1 < p2, p1 <= p2)\n",
    "print(p2 > p3, p2 >= p3, p2 < p3, p2 <= p3)\n",
    "print(p1 > p4, p1 >= p4, p1 < p4, p1 <= p4, p1 == p4)\n",
    "print(p1 == 5)"
   ]
  },
  {
   "cell_type": "code",
   "execution_count": null,
   "id": "dec148ab",
   "metadata": {},
   "outputs": [],
   "source": []
  }
 ],
 "metadata": {
  "kernelspec": {
   "display_name": "Python 3 (ipykernel)",
   "language": "python",
   "name": "python3"
  },
  "language_info": {
   "codemirror_mode": {
    "name": "ipython",
    "version": 3
   },
   "file_extension": ".py",
   "mimetype": "text/x-python",
   "name": "python",
   "nbconvert_exporter": "python",
   "pygments_lexer": "ipython3",
   "version": "3.9.5"
  }
 },
 "nbformat": 4,
 "nbformat_minor": 5
}
