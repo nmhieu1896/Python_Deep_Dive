{
 "cells": [
  {
   "cell_type": "markdown",
   "id": "d6baf8e1",
   "metadata": {},
   "source": [
    "# Customed Sequence"
   ]
  },
  {
   "cell_type": "code",
   "execution_count": 41,
   "id": "defef384",
   "metadata": {},
   "outputs": [],
   "source": [
    "class MySequence:\n",
    "    def __init__(self,n):\n",
    "        self.n = n\n",
    "        \n",
    "    def __len__(self):\n",
    "        print(\"called lenss\")\n",
    "        return self.n\n",
    "    \n",
    "    def __getitem__(self, index):\n",
    "        print(f\"require value at index {index}\")\n",
    "        if (index < 0 or index >= self.n):\n",
    "            raise IndexError\n",
    "        else:\n",
    "            return \"random value\""
   ]
  },
  {
   "cell_type": "code",
   "execution_count": 39,
   "id": "8b490c58",
   "metadata": {},
   "outputs": [],
   "source": [
    "seq = MySequence(3)"
   ]
  },
  {
   "cell_type": "code",
   "execution_count": 40,
   "id": "e0021e96",
   "metadata": {},
   "outputs": [
    {
     "name": "stdout",
     "output_type": "stream",
     "text": [
      "called lenss\n",
      "require value at index 2\n",
      "require value at index slice(0, 2, 1)\n"
     ]
    },
    {
     "data": {
      "text/plain": [
       "'random value'"
      ]
     },
     "execution_count": 40,
     "metadata": {},
     "output_type": "execute_result"
    }
   ],
   "source": [
    "len(seq)\n",
    "seq.__getitem__(2)\n",
    "seq[0:2:1]"
   ]
  },
  {
   "cell_type": "code",
   "execution_count": 23,
   "id": "b4391b11",
   "metadata": {},
   "outputs": [
    {
     "name": "stdout",
     "output_type": "stream",
     "text": [
      "require value at index 0\n",
      "random value\n",
      "require value at index 1\n",
      "random value\n",
      "require value at index 2\n",
      "random value\n",
      "require value at index 3\n"
     ]
    }
   ],
   "source": [
    "for item in seq:\n",
    "    print(item)"
   ]
  },
  {
   "cell_type": "code",
   "execution_count": 25,
   "id": "ac197749",
   "metadata": {},
   "outputs": [
    {
     "name": "stdout",
     "output_type": "stream",
     "text": [
      "require value at index 0\n",
      "require value at index 1\n",
      "require value at index 2\n",
      "require value at index 3\n"
     ]
    },
    {
     "data": {
      "text/plain": [
       "['random valuehehe', 'random valuehehe', 'random valuehehe']"
      ]
     },
     "execution_count": 25,
     "metadata": {},
     "output_type": "execute_result"
    }
   ],
   "source": [
    "[item + \"hehe\" for item in seq]"
   ]
  },
  {
   "cell_type": "markdown",
   "id": "620a3fcd",
   "metadata": {},
   "source": [
    "### -----------------------------------------------------------------------------------------------------"
   ]
  },
  {
   "cell_type": "code",
   "execution_count": 42,
   "id": "4296d785",
   "metadata": {},
   "outputs": [],
   "source": [
    "from functools import lru_cache"
   ]
  },
  {
   "cell_type": "code",
   "execution_count": 175,
   "id": "d1786320",
   "metadata": {},
   "outputs": [],
   "source": [
    "class Fib:\n",
    "    def __init__(self,n):\n",
    "        self.n = n\n",
    "    \n",
    "    @staticmethod\n",
    "    @lru_cache(1024)\n",
    "    def _fib(n):\n",
    "        if n < 2:\n",
    "            return 1\n",
    "        else:\n",
    "            return fib(n-1) + fib(n-2)\n",
    "    # calculate fibo the worst way :))\n",
    "\n",
    "    def __len__(self):\n",
    "        return self.n\n",
    "    \n",
    "    def __getitem__(self, s):\n",
    "        if isinstance(s, int):\n",
    "            if s < 0 or s >= self.n:\n",
    "                raise IndexError\n",
    "            else:\n",
    "                return Fib._fib(s)\n",
    "        elif isinstance(s, slice):\n",
    "            start, stop, step = s.indices(self.n)\n",
    "            return [Fib._fib(i) for i in range(start,stop,step)]\n",
    "#             if step < 0:\n",
    "#                 result = [Fib._fib(i) for i in range(start + 1) \n",
    "#                     if (stop < i <= start) and not ((i - start) % step)]\n",
    "#                 result.reverse()\n",
    "#                 return result\n",
    "#             else:\n",
    "#                 return [Fib._fib(i) for i in range(stop) \n",
    "#                     if (start <= i < stop) and not ((i - start) % (step or 1))]\n",
    "        else:\n",
    "            raise TypeError"
   ]
  },
  {
   "cell_type": "code",
   "execution_count": 176,
   "id": "2f2a4def",
   "metadata": {},
   "outputs": [],
   "source": [
    "test = Fib(10)"
   ]
  },
  {
   "cell_type": "code",
   "execution_count": 177,
   "id": "6e21f01e",
   "metadata": {},
   "outputs": [
    {
     "data": {
      "text/plain": [
       "(8, [1, 1, 2, 3, 5, 8, 13], [1, 2, 5, 13])"
      ]
     },
     "execution_count": 177,
     "metadata": {},
     "output_type": "execute_result"
    }
   ],
   "source": [
    "test[5], test[0:7], test[0:7:2]"
   ]
  },
  {
   "cell_type": "code",
   "execution_count": 178,
   "id": "2fee9f3e",
   "metadata": {},
   "outputs": [
    {
     "data": {
      "text/plain": [
       "([1, 2, 3, 5, 8, 13, 21, 34, 55], [55, 21, 8, 3], [55, 21, 8, 3])"
      ]
     },
     "execution_count": 178,
     "metadata": {},
     "output_type": "execute_result"
    }
   ],
   "source": [
    "test[1:12], test[-1:-8:-2], test[9:2:-2]"
   ]
  },
  {
   "cell_type": "code",
   "execution_count": 180,
   "id": "db2b4a2d",
   "metadata": {},
   "outputs": [
    {
     "data": {
      "text/plain": [
       "([1, 1, 2, 3, 5, 8, 13, 21, 34, 55], (1, 1, 2, 3, 5, 8, 13, 21, 34, 55))"
      ]
     },
     "execution_count": 180,
     "metadata": {},
     "output_type": "execute_result"
    }
   ],
   "source": [
    "list(test), tuple(test)"
   ]
  },
  {
   "cell_type": "code",
   "execution_count": null,
   "id": "6fe0b88b",
   "metadata": {},
   "outputs": [],
   "source": []
  }
 ],
 "metadata": {
  "kernelspec": {
   "display_name": "Python 3 (ipykernel)",
   "language": "python",
   "name": "python3"
  },
  "language_info": {
   "codemirror_mode": {
    "name": "ipython",
    "version": 3
   },
   "file_extension": ".py",
   "mimetype": "text/x-python",
   "name": "python",
   "nbconvert_exporter": "python",
   "pygments_lexer": "ipython3",
   "version": "3.9.5"
  }
 },
 "nbformat": 4,
 "nbformat_minor": 5
}
