{
 "cells": [
  {
   "cell_type": "markdown",
   "id": "fea71448",
   "metadata": {},
   "source": [
    "# Iterables"
   ]
  },
  {
   "cell_type": "code",
   "execution_count": 22,
   "id": "0a0517db",
   "metadata": {},
   "outputs": [],
   "source": [
    "class Squares:\n",
    "    def __init__(self,length):\n",
    "        self.i = 0\n",
    "        self.length = length\n",
    "    \n",
    "    def __next__(self):\n",
    "        if self.i >= self.length:\n",
    "            self.i = 0\n",
    "            raise StopIteration\n",
    "        else:\n",
    "            result = self.i ** 2\n",
    "            self.i += 1\n",
    "            return result\n",
    "        \n",
    "    def __iter__(self):\n",
    "        return self"
   ]
  },
  {
   "cell_type": "code",
   "execution_count": 23,
   "id": "e44ed594",
   "metadata": {},
   "outputs": [],
   "source": [
    "sq = Squares(5)"
   ]
  },
  {
   "cell_type": "code",
   "execution_count": 24,
   "id": "59ac9541",
   "metadata": {},
   "outputs": [
    {
     "data": {
      "text/plain": [
       "(0, 1)"
      ]
     },
     "execution_count": 24,
     "metadata": {},
     "output_type": "execute_result"
    }
   ],
   "source": [
    "next(sq), next(sq)"
   ]
  },
  {
   "cell_type": "code",
   "execution_count": 31,
   "id": "82bb3935",
   "metadata": {},
   "outputs": [
    {
     "name": "stdout",
     "output_type": "stream",
     "text": [
      "4\n",
      "9\n",
      "16\n"
     ]
    }
   ],
   "source": [
    "for item in sq:\n",
    "    print(item)"
   ]
  },
  {
   "cell_type": "code",
   "execution_count": 33,
   "id": "6eccc575",
   "metadata": {},
   "outputs": [
    {
     "data": {
      "text/plain": [
       "(4, 9)"
      ]
     },
     "execution_count": 33,
     "metadata": {},
     "output_type": "execute_result"
    }
   ],
   "source": [
    "next(sq), next(sq)"
   ]
  },
  {
   "cell_type": "code",
   "execution_count": 35,
   "id": "4fb7021c",
   "metadata": {},
   "outputs": [],
   "source": [
    "x = iter(sq)"
   ]
  },
  {
   "cell_type": "code",
   "execution_count": 40,
   "id": "b1d2603a",
   "metadata": {},
   "outputs": [
    {
     "data": {
      "text/plain": [
       "True"
      ]
     },
     "execution_count": 40,
     "metadata": {},
     "output_type": "execute_result"
    }
   ],
   "source": [
    "x == sq"
   ]
  },
  {
   "cell_type": "code",
   "execution_count": 45,
   "id": "e4d7c659",
   "metadata": {},
   "outputs": [],
   "source": [
    "class IterWrapper:\n",
    "    def __init__(self, n):\n",
    "        self.n = n\n",
    "    def __iter__(self):\n",
    "        return Squares(self.n)"
   ]
  },
  {
   "cell_type": "code",
   "execution_count": 46,
   "id": "213d83c7",
   "metadata": {},
   "outputs": [],
   "source": [
    "x = IterWrapper(5)"
   ]
  },
  {
   "cell_type": "code",
   "execution_count": 50,
   "id": "946ac3f6",
   "metadata": {},
   "outputs": [
    {
     "data": {
      "text/plain": [
       "[0, 1, 4, 9, 16]"
      ]
     },
     "execution_count": 50,
     "metadata": {},
     "output_type": "execute_result"
    }
   ],
   "source": [
    "[i for i in x]"
   ]
  },
  {
   "cell_type": "markdown",
   "id": "5a52826a",
   "metadata": {},
   "source": [
    "### -------------------------------------------------------------------------------------"
   ]
  },
  {
   "cell_type": "code",
   "execution_count": 94,
   "id": "75faa6dd",
   "metadata": {},
   "outputs": [],
   "source": [
    "class Cyclic:\n",
    "    def __init__(self,l):\n",
    "        self.i = 0\n",
    "        self.l = l\n",
    "    \n",
    "    def __next__(self):\n",
    "        result = self.l[self.i]\n",
    "        self.i += 1\n",
    "        if self.i >= len(self.l):\n",
    "            self.i = 0\n",
    "        return result\n",
    "        \n",
    "    def __iter__(self):\n",
    "        return self"
   ]
  },
  {
   "cell_type": "code",
   "execution_count": 95,
   "id": "e8e27770",
   "metadata": {},
   "outputs": [],
   "source": [
    "x = Cyclic(\"ABCD\")"
   ]
  },
  {
   "cell_type": "code",
   "execution_count": 100,
   "id": "9d269cce",
   "metadata": {},
   "outputs": [
    {
     "name": "stdout",
     "output_type": "stream",
     "text": [
      "A\n",
      "B\n",
      "C\n",
      "D\n",
      "A\n",
      "B\n"
     ]
    }
   ],
   "source": [
    "for _ in range(6):\n",
    "    print(next(x))"
   ]
  },
  {
   "cell_type": "code",
   "execution_count": 99,
   "id": "2e7ad4e1",
   "metadata": {},
   "outputs": [
    {
     "name": "stdout",
     "output_type": "stream",
     "text": [
      "(1, 'C')\n",
      "(2, 'D')\n",
      "(3, 'A')\n",
      "(4, 'B')\n",
      "(5, 'C')\n",
      "(6, 'D')\n"
     ]
    }
   ],
   "source": [
    "for i in zip([1,2,3,4,5,6], x):\n",
    "    print(i)"
   ]
  },
  {
   "cell_type": "code",
   "execution_count": null,
   "id": "f414ad9e",
   "metadata": {},
   "outputs": [],
   "source": []
  }
 ],
 "metadata": {
  "kernelspec": {
   "display_name": "Python 3 (ipykernel)",
   "language": "python",
   "name": "python3"
  },
  "language_info": {
   "codemirror_mode": {
    "name": "ipython",
    "version": 3
   },
   "file_extension": ".py",
   "mimetype": "text/x-python",
   "name": "python",
   "nbconvert_exporter": "python",
   "pygments_lexer": "ipython3",
   "version": "3.9.5"
  }
 },
 "nbformat": 4,
 "nbformat_minor": 5
}
