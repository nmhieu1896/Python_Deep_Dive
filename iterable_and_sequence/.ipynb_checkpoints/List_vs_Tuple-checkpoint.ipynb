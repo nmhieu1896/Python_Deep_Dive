{
 "cells": [
  {
   "cell_type": "markdown",
   "id": "c43d85ff",
   "metadata": {},
   "source": [
    "# List vs Tuples"
   ]
  },
  {
   "cell_type": "markdown",
   "id": "4dfa3062",
   "metadata": {},
   "source": [
    "## Performance"
   ]
  },
  {
   "cell_type": "code",
   "execution_count": 1,
   "id": "b6abbbb1",
   "metadata": {},
   "outputs": [],
   "source": [
    "from dis import dis"
   ]
  },
  {
   "cell_type": "code",
   "execution_count": 2,
   "id": "479dfee4",
   "metadata": {},
   "outputs": [
    {
     "name": "stdout",
     "output_type": "stream",
     "text": [
      "  1           0 LOAD_CONST               0 ((1, 2, 3, 'a'))\n",
      "              2 RETURN_VALUE\n"
     ]
    }
   ],
   "source": [
    "dis(compile('(1,2,3,\"a\")', 'string', 'eval'))"
   ]
  },
  {
   "cell_type": "code",
   "execution_count": 3,
   "id": "afd1a820",
   "metadata": {},
   "outputs": [
    {
     "name": "stdout",
     "output_type": "stream",
     "text": [
      "  1           0 BUILD_LIST               0\n",
      "              2 LOAD_CONST               0 ((1, 2, 3, 'a'))\n",
      "              4 LIST_EXTEND              1\n",
      "              6 RETURN_VALUE\n"
     ]
    }
   ],
   "source": [
    "dis(compile('[1,2,3,\"a\"]', 'string', 'eval'))"
   ]
  },
  {
   "cell_type": "code",
   "execution_count": 4,
   "id": "9489def1",
   "metadata": {},
   "outputs": [
    {
     "name": "stdout",
     "output_type": "stream",
     "text": [
      "  1           0 LOAD_CONST               0 (1)\n",
      "              2 LOAD_CONST               1 (2)\n",
      "              4 LOAD_CONST               2 (3)\n",
      "              6 LOAD_CONST               3 (4)\n",
      "              8 LOAD_CONST               4 (5)\n",
      "             10 BUILD_LIST               2\n",
      "             12 BUILD_TUPLE              4\n",
      "             14 RETURN_VALUE\n"
     ]
    }
   ],
   "source": [
    "dis(compile('(1,2,3,[4,5])', 'string', 'eval'))"
   ]
  },
  {
   "cell_type": "code",
   "execution_count": 12,
   "id": "41a48bf9",
   "metadata": {},
   "outputs": [
    {
     "name": "stdout",
     "output_type": "stream",
     "text": [
      "  1           0 LOAD_CONST               0 (1)\n",
      "              2 LOAD_CONST               1 (2)\n",
      "              4 LOAD_CONST               2 (3)\n",
      "              6 LOAD_CONST               3 (4)\n",
      "              8 LOAD_CONST               4 (5)\n",
      "             10 BUILD_LIST               2\n",
      "             12 BUILD_LIST               4\n",
      "             14 RETURN_VALUE\n"
     ]
    }
   ],
   "source": [
    "dis(compile('[1,2,3,[4,5]]', 'string', 'eval'))"
   ]
  },
  {
   "cell_type": "code",
   "execution_count": 5,
   "id": "4d963fd6",
   "metadata": {},
   "outputs": [],
   "source": [
    "from timeit import timeit"
   ]
  },
  {
   "cell_type": "code",
   "execution_count": 6,
   "id": "b4fa986c",
   "metadata": {},
   "outputs": [
    {
     "data": {
      "text/plain": [
       "0.09039391900296323"
      ]
     },
     "execution_count": 6,
     "metadata": {},
     "output_type": "execute_result"
    }
   ],
   "source": [
    "timeit(\"(1,2,3,4,5,6,7,8,9)\", number = 10_000_000)"
   ]
  },
  {
   "cell_type": "code",
   "execution_count": 7,
   "id": "335bd764",
   "metadata": {},
   "outputs": [
    {
     "data": {
      "text/plain": [
       "0.5593948040041141"
      ]
     },
     "execution_count": 7,
     "metadata": {},
     "output_type": "execute_result"
    }
   ],
   "source": [
    "timeit(\"[1,2,3,4,5,6,7,8,9]\", number = 10_000_000)"
   ]
  },
  {
   "cell_type": "markdown",
   "id": "2a1cfc0a",
   "metadata": {},
   "source": [
    "### 6 time longer =.='"
   ]
  },
  {
   "cell_type": "code",
   "execution_count": 10,
   "id": "6faa719f",
   "metadata": {},
   "outputs": [],
   "source": [
    "def fn1():\n",
    "    pass"
   ]
  },
  {
   "cell_type": "code",
   "execution_count": 11,
   "id": "68496f9d",
   "metadata": {},
   "outputs": [
    {
     "name": "stdout",
     "output_type": "stream",
     "text": [
      "  1           0 LOAD_NAME                0 (fn1)\n",
      "              2 LOAD_CONST               0 (1)\n",
      "              4 LOAD_CONST               1 (2)\n",
      "              6 BUILD_TUPLE              3\n",
      "              8 RETURN_VALUE\n"
     ]
    }
   ],
   "source": [
    "dis(compile('(fn1, 1, 2)', 'string', 'eval'))"
   ]
  },
  {
   "cell_type": "code",
   "execution_count": 14,
   "id": "75f12d95",
   "metadata": {},
   "outputs": [
    {
     "data": {
      "text/plain": [
       "0.07400014600716531"
      ]
     },
     "execution_count": 14,
     "metadata": {},
     "output_type": "execute_result"
    }
   ],
   "source": [
    "timeit(\"([1,2], 3, 4)\", number=1_000_000)"
   ]
  },
  {
   "cell_type": "code",
   "execution_count": 16,
   "id": "674e5faf",
   "metadata": {},
   "outputs": [
    {
     "data": {
      "text/plain": [
       "0.08602535899262875"
      ]
     },
     "execution_count": 16,
     "metadata": {},
     "output_type": "execute_result"
    }
   ],
   "source": [
    "timeit(\"[[1,2], 3, 4]\", number=1_000_000)"
   ]
  },
  {
   "cell_type": "code",
   "execution_count": 19,
   "id": "b4a148cd",
   "metadata": {},
   "outputs": [],
   "source": [
    "t1 = (1,2,3,4,5,6,7,8,9)\n",
    "l1 = [1,2,3,4,5,6,7,8,9]"
   ]
  },
  {
   "cell_type": "code",
   "execution_count": 21,
   "id": "f9ec2c7b",
   "metadata": {},
   "outputs": [
    {
     "data": {
      "text/plain": [
       "(139948221583232, 139948221583232, 139948221516928)"
      ]
     },
     "execution_count": 21,
     "metadata": {},
     "output_type": "execute_result"
    }
   ],
   "source": [
    "l2 = l1\n",
    "l3 = list(l1)\n",
    "id(l1), id(l2), id(l3)"
   ]
  },
  {
   "cell_type": "code",
   "execution_count": 57,
   "id": "4d0b5711",
   "metadata": {},
   "outputs": [
    {
     "data": {
      "text/plain": [
       "(139948243710128, 139948243710128, 139948243710128)"
      ]
     },
     "execution_count": 57,
     "metadata": {},
     "output_type": "execute_result"
    }
   ],
   "source": [
    "t2 = tuple(t1)\n",
    "t3 = t1[:]\n",
    "id(t1), id(t2), id(t3)"
   ]
  },
  {
   "cell_type": "markdown",
   "id": "88519658",
   "metadata": {},
   "source": [
    "List do a copy, while tuple doesnt give a f"
   ]
  },
  {
   "cell_type": "code",
   "execution_count": 23,
   "id": "fc83dfb4",
   "metadata": {},
   "outputs": [
    {
     "data": {
      "text/plain": [
       "0.21935176698025316"
      ]
     },
     "execution_count": 23,
     "metadata": {},
     "output_type": "execute_result"
    }
   ],
   "source": [
    "timeit('tuple((1,2,3,4,5))', number= 5_000_000)"
   ]
  },
  {
   "cell_type": "code",
   "execution_count": 24,
   "id": "3f5bd649",
   "metadata": {},
   "outputs": [
    {
     "data": {
      "text/plain": [
       "0.4297213129757438"
      ]
     },
     "execution_count": 24,
     "metadata": {},
     "output_type": "execute_result"
    }
   ],
   "source": [
    "timeit('list((1,2,3,4,5))', number= 5_000_000)"
   ]
  },
  {
   "cell_type": "markdown",
   "id": "3e3d5714",
   "metadata": {},
   "source": [
    "## Storage Efficiency"
   ]
  },
  {
   "cell_type": "code",
   "execution_count": 26,
   "id": "7dc71b00",
   "metadata": {},
   "outputs": [],
   "source": [
    "import sys"
   ]
  },
  {
   "cell_type": "code",
   "execution_count": 42,
   "id": "babd1c14",
   "metadata": {},
   "outputs": [
    {
     "name": "stdout",
     "output_type": "stream",
     "text": [
      "0 items: size=40, delta=40\n",
      "1 items: size=48, delta=8\n",
      "2 items: size=56, delta=8\n",
      "3 items: size=64, delta=8\n",
      "4 items: size=72, delta=8\n",
      "5 items: size=80, delta=8\n",
      "6 items: size=88, delta=8\n",
      "7 items: size=96, delta=8\n",
      "8 items: size=104, delta=8\n",
      "9 items: size=112, delta=8\n"
     ]
    }
   ],
   "source": [
    "prev = 0\n",
    "\n",
    "for i in range(10):\n",
    "    c = tuple(range(i))\n",
    "    size_c = sys.getsizeof(c)\n",
    "    delta, prev = size_c - prev, size_c\n",
    "    print(f'{i} items: size={size_c}, delta={delta}')"
   ]
  },
  {
   "cell_type": "code",
   "execution_count": 43,
   "id": "9b6f97c4",
   "metadata": {},
   "outputs": [
    {
     "name": "stdout",
     "output_type": "stream",
     "text": [
      "0 items: size=56, delta=56\n",
      "1 items: size=64, delta=8\n",
      "2 items: size=72, delta=8\n",
      "3 items: size=80, delta=8\n",
      "4 items: size=88, delta=8\n",
      "5 items: size=96, delta=8\n",
      "6 items: size=104, delta=8\n",
      "7 items: size=112, delta=8\n",
      "8 items: size=120, delta=8\n",
      "9 items: size=128, delta=8\n",
      "10 items: size=136, delta=8\n"
     ]
    }
   ],
   "source": [
    "prev = 0\n",
    "\n",
    "for i in range(11):\n",
    "    c = list(range(i))\n",
    "    size_c = sys.getsizeof(c)\n",
    "    delta, prev = size_c - prev, size_c\n",
    "    print(f'{i} items: size={size_c}, delta={delta}')"
   ]
  },
  {
   "cell_type": "code",
   "execution_count": 47,
   "id": "bfffff3e",
   "metadata": {},
   "outputs": [
    {
     "name": "stdout",
     "output_type": "stream",
     "text": [
      "0 items: 56\n",
      "1 items: size=88, delta=32\n",
      "5 items: size=120, delta=32\n",
      "9 items: size=184, delta=64\n",
      "17 items: size=248, delta=64\n",
      "25 items: size=312, delta=64\n",
      "33 items: size=376, delta=64\n",
      "41 items: size=472, delta=96\n",
      "53 items: size=568, delta=96\n",
      "65 items: size=664, delta=96\n",
      "77 items: size=792, delta=128\n",
      "93 items: size=920, delta=128\n",
      "109 items: size=1080, delta=160\n",
      "129 items: size=1240, delta=160\n",
      "149 items: size=1432, delta=192\n",
      "173 items: size=1656, delta=224\n",
      "201 items: size=1912, delta=256\n",
      "233 items: size=2200, delta=288\n"
     ]
    }
   ],
   "source": [
    "l = list()\n",
    "prev = sys.getsizeof(l)\n",
    "print(f'0 items: {prev}')\n",
    "\n",
    "for i in range(255):\n",
    "    l.append(i)\n",
    "    size_c = sys.getsizeof(l)\n",
    "    delta, prev = size_c - prev, size_c\n",
    "    if (delta != 0):\n",
    "        print(f'{i+1} items: size={size_c}, delta={delta}')"
   ]
  },
  {
   "cell_type": "code",
   "execution_count": 52,
   "id": "558cde3c",
   "metadata": {},
   "outputs": [
    {
     "data": {
      "text/plain": [
       "64"
      ]
     },
     "execution_count": 52,
     "metadata": {},
     "output_type": "execute_result"
    }
   ],
   "source": [
    "sys.getsizeof([0])"
   ]
  },
  {
   "cell_type": "code",
   "execution_count": 51,
   "id": "1e536a43",
   "metadata": {},
   "outputs": [
    {
     "data": {
      "text/plain": [
       "([0], 88)"
      ]
     },
     "execution_count": 51,
     "metadata": {},
     "output_type": "execute_result"
    }
   ],
   "source": [
    "l=[]\n",
    "l.append(0)\n",
    "l, sys.getsizeof(l)"
   ]
  },
  {
   "cell_type": "markdown",
   "id": "bf05b8cb",
   "metadata": {},
   "source": [
    "Sao nó lại trông như thế này :("
   ]
  },
  {
   "cell_type": "code",
   "execution_count": 53,
   "id": "102c542b",
   "metadata": {},
   "outputs": [
    {
     "data": {
      "text/plain": [
       "(True, 88, 64)"
      ]
     },
     "execution_count": 53,
     "metadata": {},
     "output_type": "execute_result"
    }
   ],
   "source": [
    "l1, l2 = [], [0]\n",
    "l1.append(0)\n",
    "l1 == l2, sys.getsizeof(l1), sys.getsizeof(l2)"
   ]
  },
  {
   "cell_type": "code",
   "execution_count": 54,
   "id": "bd089a69",
   "metadata": {},
   "outputs": [],
   "source": [
    "t = tuple(range(100_000))\n",
    "l=list(t)"
   ]
  },
  {
   "cell_type": "code",
   "execution_count": 55,
   "id": "021b0ecb",
   "metadata": {},
   "outputs": [
    {
     "data": {
      "text/plain": [
       "0.3476109849871136"
      ]
     },
     "execution_count": 55,
     "metadata": {},
     "output_type": "execute_result"
    }
   ],
   "source": [
    "timeit('t[99_999]', globals=globals(), number=10_000_000)"
   ]
  },
  {
   "cell_type": "code",
   "execution_count": 56,
   "id": "be45f09c",
   "metadata": {},
   "outputs": [
    {
     "data": {
      "text/plain": [
       "0.36071049101883546"
      ]
     },
     "execution_count": 56,
     "metadata": {},
     "output_type": "execute_result"
    }
   ],
   "source": [
    "timeit('l[99_999]', globals=globals(), number=10_000_000)"
   ]
  },
  {
   "cell_type": "code",
   "execution_count": null,
   "id": "8c8bb20a",
   "metadata": {},
   "outputs": [],
   "source": []
  }
 ],
 "metadata": {
  "kernelspec": {
   "display_name": "Python 3 (ipykernel)",
   "language": "python",
   "name": "python3"
  },
  "language_info": {
   "codemirror_mode": {
    "name": "ipython",
    "version": 3
   },
   "file_extension": ".py",
   "mimetype": "text/x-python",
   "name": "python",
   "nbconvert_exporter": "python",
   "pygments_lexer": "ipython3",
   "version": "3.9.5"
  }
 },
 "nbformat": 4,
 "nbformat_minor": 5
}
