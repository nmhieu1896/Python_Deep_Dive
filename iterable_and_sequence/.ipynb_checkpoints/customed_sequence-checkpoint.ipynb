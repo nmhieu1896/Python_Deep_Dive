{
 "cells": [
  {
   "cell_type": "markdown",
   "id": "6784d288",
   "metadata": {},
   "source": [
    "# Customed Sequence"
   ]
  },
  {
   "cell_type": "code",
   "execution_count": 41,
   "id": "f3bf6a49",
   "metadata": {},
   "outputs": [],
   "source": [
    "class MySequence:\n",
    "    def __init__(self,n):\n",
    "        self.n = n\n",
    "        \n",
    "    def __len__(self):\n",
    "        print(\"called lenss\")\n",
    "        return self.n\n",
    "    \n",
    "    def __getitem__(self, index):\n",
    "        print(f\"require value at index {index}\")\n",
    "        if (index < 0 or index >= self.n):\n",
    "            raise IndexError\n",
    "        else:\n",
    "            return \"random value\""
   ]
  },
  {
   "cell_type": "code",
   "execution_count": 39,
   "id": "8e74e63c",
   "metadata": {},
   "outputs": [],
   "source": [
    "seq = MySequence(3)"
   ]
  },
  {
   "cell_type": "code",
   "execution_count": 40,
   "id": "1647c998",
   "metadata": {},
   "outputs": [
    {
     "name": "stdout",
     "output_type": "stream",
     "text": [
      "called lenss\n",
      "require value at index 2\n",
      "require value at index slice(0, 2, 1)\n"
     ]
    },
    {
     "data": {
      "text/plain": [
       "'random value'"
      ]
     },
     "execution_count": 40,
     "metadata": {},
     "output_type": "execute_result"
    }
   ],
   "source": [
    "len(seq)\n",
    "seq.__getitem__(2)\n",
    "seq[0:2:1]"
   ]
  },
  {
   "cell_type": "code",
   "execution_count": 23,
   "id": "3f3a7742",
   "metadata": {},
   "outputs": [
    {
     "name": "stdout",
     "output_type": "stream",
     "text": [
      "require value at index 0\n",
      "random value\n",
      "require value at index 1\n",
      "random value\n",
      "require value at index 2\n",
      "random value\n",
      "require value at index 3\n"
     ]
    }
   ],
   "source": [
    "for item in seq:\n",
    "    print(item)"
   ]
  },
  {
   "cell_type": "code",
   "execution_count": 25,
   "id": "2f1a955a",
   "metadata": {},
   "outputs": [
    {
     "name": "stdout",
     "output_type": "stream",
     "text": [
      "require value at index 0\n",
      "require value at index 1\n",
      "require value at index 2\n",
      "require value at index 3\n"
     ]
    },
    {
     "data": {
      "text/plain": [
       "['random valuehehe', 'random valuehehe', 'random valuehehe']"
      ]
     },
     "execution_count": 25,
     "metadata": {},
     "output_type": "execute_result"
    }
   ],
   "source": [
    "[item + \"hehe\" for item in seq]"
   ]
  },
  {
   "cell_type": "markdown",
   "id": "efb6d622",
   "metadata": {},
   "source": [
    "### -----------------------------------------------------------------------------------------------------"
   ]
  },
  {
   "cell_type": "code",
   "execution_count": 42,
   "id": "4baa8f35",
   "metadata": {},
   "outputs": [],
   "source": [
    "from functools import lru_cache"
   ]
  },
  {
   "cell_type": "code",
   "execution_count": 116,
   "id": "d1763c08",
   "metadata": {},
   "outputs": [],
   "source": [
    "class Fib:\n",
    "    def __init__(self,n):\n",
    "        self.n = n\n",
    "    \n",
    "    @staticmethod\n",
    "    @lru_cache(1024)\n",
    "    def _fib(n):\n",
    "        if n < 2:\n",
    "            return 1\n",
    "        else:\n",
    "            return fib(n-1) + fib(n-2)\n",
    "    # calculate fibo the worst way :))\n",
    "\n",
    "    def __len__(self):\n",
    "        return self.n\n",
    "    \n",
    "    def __getitem__(self, s):\n",
    "        if isinstance(s, int):\n",
    "            if s < 0 or s >= self.n:\n",
    "                raise IndexError\n",
    "            else:\n",
    "                return Fib._fib(s)\n",
    "        elif isinstance(s, slice):\n",
    "            s = slice(*s.indices(self.n))\n",
    "            if (s.start < 0) or (s.stop < 0) or (s.start > self.n) or(s.stop > self.n):\n",
    "                raise IndexError\n",
    "            else: \n",
    "                if s.step < 0:\n",
    "                    return [Fib._fib(i) for i in range(s.start + 1) \n",
    "                        if (s.stop < i <= s.start) and not ((i - s.start) % s.step)]\n",
    "                else:\n",
    "                    return [Fib._fib(i) for i in range(s.stop) \n",
    "                        if (s.start <= i < s.stop) and not ((i - s.start) % (s.step or 1))]\n",
    "        else:\n",
    "            raise TypeError"
   ]
  },
  {
   "cell_type": "code",
   "execution_count": 117,
   "id": "c2853b49",
   "metadata": {},
   "outputs": [],
   "source": [
    "test = Fib(10)"
   ]
  },
  {
   "cell_type": "code",
   "execution_count": 118,
   "id": "639222aa",
   "metadata": {},
   "outputs": [
    {
     "data": {
      "text/plain": [
       "8"
      ]
     },
     "execution_count": 118,
     "metadata": {},
     "output_type": "execute_result"
    }
   ],
   "source": [
    "test[5]"
   ]
  },
  {
   "cell_type": "code",
   "execution_count": 119,
   "id": "76b6f0fd",
   "metadata": {},
   "outputs": [
    {
     "data": {
      "text/plain": [
       "([1, 1, 2, 3, 5, 8, 13], [1, 2, 5, 13])"
      ]
     },
     "execution_count": 119,
     "metadata": {},
     "output_type": "execute_result"
    }
   ],
   "source": [
    "test[0:7], test[0:7:2]"
   ]
  },
  {
   "cell_type": "code",
   "execution_count": 120,
   "id": "2b3d5bba",
   "metadata": {},
   "outputs": [
    {
     "data": {
      "text/plain": [
       "[1, 2, 3, 5, 8, 13, 21, 34, 55]"
      ]
     },
     "execution_count": 120,
     "metadata": {},
     "output_type": "execute_result"
    }
   ],
   "source": [
    "test[1:12]"
   ]
  },
  {
   "cell_type": "code",
   "execution_count": 88,
   "id": "bee3d33e",
   "metadata": {},
   "outputs": [
    {
     "data": {
      "text/plain": [
       "[1, 1, 2, 3, 5, 8, 13, 21, 34, 55]"
      ]
     },
     "execution_count": 88,
     "metadata": {},
     "output_type": "execute_result"
    }
   ],
   "source": [
    "list(test)"
   ]
  },
  {
   "cell_type": "code",
   "execution_count": 114,
   "id": "7ffe5698",
   "metadata": {},
   "outputs": [],
   "source": [
    "s = slice(-1,-4,-1)\n",
    "s = slice(*s.indices(10))"
   ]
  },
  {
   "cell_type": "code",
   "execution_count": 121,
   "id": "016f23a5",
   "metadata": {},
   "outputs": [],
   "source": [
    "s=slice(1,12)"
   ]
  },
  {
   "cell_type": "code",
   "execution_count": null,
   "id": "331dcebe",
   "metadata": {},
   "outputs": [],
   "source": []
  }
 ],
 "metadata": {
  "kernelspec": {
   "display_name": "Python 3 (ipykernel)",
   "language": "python",
   "name": "python3"
  },
  "language_info": {
   "codemirror_mode": {
    "name": "ipython",
    "version": 3
   },
   "file_extension": ".py",
   "mimetype": "text/x-python",
   "name": "python",
   "nbconvert_exporter": "python",
   "pygments_lexer": "ipython3",
   "version": "3.9.5"
  }
 },
 "nbformat": 4,
 "nbformat_minor": 5
}
