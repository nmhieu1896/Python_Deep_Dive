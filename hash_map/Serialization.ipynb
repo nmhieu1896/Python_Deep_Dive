{
 "cells": [
  {
   "cell_type": "markdown",
   "id": "00cb8467",
   "metadata": {},
   "source": [
    "# JSON Serialization "
   ]
  },
  {
   "cell_type": "code",
   "execution_count": 1,
   "id": "adbe5528",
   "metadata": {},
   "outputs": [],
   "source": [
    "import json"
   ]
  },
  {
   "cell_type": "code",
   "execution_count": 2,
   "id": "b5829701",
   "metadata": {},
   "outputs": [],
   "source": [
    "d = {'a': 100, 'b': 200}"
   ]
  },
  {
   "cell_type": "code",
   "execution_count": 3,
   "id": "f29434f7",
   "metadata": {},
   "outputs": [],
   "source": [
    "d_json = json.dumps(d)"
   ]
  },
  {
   "cell_type": "code",
   "execution_count": 5,
   "id": "f768240d",
   "metadata": {},
   "outputs": [
    {
     "data": {
      "text/plain": [
       "('{\"a\": 100, \"b\": 200}', str)"
      ]
     },
     "execution_count": 5,
     "metadata": {},
     "output_type": "execute_result"
    }
   ],
   "source": [
    "d_json, type(d_json)"
   ]
  },
  {
   "cell_type": "code",
   "execution_count": 7,
   "id": "cd6b739f",
   "metadata": {},
   "outputs": [
    {
     "name": "stdout",
     "output_type": "stream",
     "text": [
      "{\n",
      "  \"a\": 100,\n",
      "  \"b\": 200\n",
      "}\n"
     ]
    }
   ],
   "source": [
    "print(json.dumps(d, indent=2))"
   ]
  },
  {
   "cell_type": "code",
   "execution_count": 8,
   "id": "6755054d",
   "metadata": {},
   "outputs": [],
   "source": [
    "d2 = json.loads(d_json)"
   ]
  },
  {
   "cell_type": "code",
   "execution_count": 11,
   "id": "d37b3ae7",
   "metadata": {},
   "outputs": [
    {
     "data": {
      "text/plain": [
       "(True, False)"
      ]
     },
     "execution_count": 11,
     "metadata": {},
     "output_type": "execute_result"
    }
   ],
   "source": [
    "d2==d, d2 is d"
   ]
  },
  {
   "cell_type": "code",
   "execution_count": 13,
   "id": "b7d852f9",
   "metadata": {},
   "outputs": [],
   "source": [
    "d1 = {1: 100, 2: 200}\n",
    "d1_json = json.dumps(d1)"
   ]
  },
  {
   "cell_type": "code",
   "execution_count": 15,
   "id": "05c5c873",
   "metadata": {},
   "outputs": [],
   "source": [
    "d2 = json.loads(d1_json)"
   ]
  },
  {
   "cell_type": "code",
   "execution_count": 16,
   "id": "bd3cc5d4",
   "metadata": {},
   "outputs": [
    {
     "data": {
      "text/plain": [
       "False"
      ]
     },
     "execution_count": 16,
     "metadata": {},
     "output_type": "execute_result"
    }
   ],
   "source": [
    "d2==d1"
   ]
  },
  {
   "cell_type": "code",
   "execution_count": 17,
   "id": "a0dd0d81",
   "metadata": {},
   "outputs": [
    {
     "data": {
      "text/plain": [
       "{'1': 100, '2': 200}"
      ]
     },
     "execution_count": 17,
     "metadata": {},
     "output_type": "execute_result"
    }
   ],
   "source": [
    "d2"
   ]
  },
  {
   "cell_type": "code",
   "execution_count": null,
   "id": "b1647012",
   "metadata": {},
   "outputs": [],
   "source": []
  }
 ],
 "metadata": {
  "kernelspec": {
   "display_name": "Python 3 (ipykernel)",
   "language": "python",
   "name": "python3"
  },
  "language_info": {
   "codemirror_mode": {
    "name": "ipython",
    "version": 3
   },
   "file_extension": ".py",
   "mimetype": "text/x-python",
   "name": "python",
   "nbconvert_exporter": "python",
   "pygments_lexer": "ipython3",
   "version": "3.9.5"
  }
 },
 "nbformat": 4,
 "nbformat_minor": 5
}
