{
 "cells": [
  {
   "cell_type": "markdown",
   "id": "bb31cd63",
   "metadata": {},
   "source": [
    "# Sets"
   ]
  },
  {
   "cell_type": "code",
   "execution_count": 1,
   "id": "db6f41f5",
   "metadata": {},
   "outputs": [],
   "source": [
    "s1 = {1,2,3}\n",
    "s2 = {1,2,3,4}\n",
    "s3 = {1,2,4,5}"
   ]
  },
  {
   "cell_type": "code",
   "execution_count": 2,
   "id": "d57b02ae",
   "metadata": {},
   "outputs": [
    {
     "data": {
      "text/plain": [
       "(True, True, False, False)"
      ]
     },
     "execution_count": 2,
     "metadata": {},
     "output_type": "execute_result"
    }
   ],
   "source": [
    "s1 < s2, s1 <= s2, s1 <= s3, s2 < s3"
   ]
  },
  {
   "cell_type": "code",
   "execution_count": 3,
   "id": "48538606",
   "metadata": {},
   "outputs": [
    {
     "data": {
      "text/plain": [
       "({1, 2, 3, 4, 5}, {1, 2}, {3}, {3, 4, 5})"
      ]
     },
     "execution_count": 3,
     "metadata": {},
     "output_type": "execute_result"
    }
   ],
   "source": [
    "s1 | s3, s1 & s3, s1 - s3, s1 ^ s3"
   ]
  },
  {
   "cell_type": "code",
   "execution_count": 34,
   "id": "10b930d1",
   "metadata": {},
   "outputs": [],
   "source": [
    "from timeit import timeit\n",
    "import sys"
   ]
  },
  {
   "cell_type": "code",
   "execution_count": 38,
   "id": "8a2084d0",
   "metadata": {},
   "outputs": [
    {
     "name": "stdout",
     "output_type": "stream",
     "text": [
      "with    5 items it takes 0.0117 for set and 0.0173 for tuple || delta(t-s): 0.0056 || ratio(t/s): 1.5\n",
      "with   50 items it takes 0.0055 for set and 0.0594 for tuple || delta(t-s): 0.0538 || ratio(t/s): 10.7\n",
      "with  200 items it takes 0.0041 for set and 0.1783 for tuple || delta(t-s): 0.1742 || ratio(t/s): 43.4\n",
      "with 1000 items it takes 0.0060 for set and 0.8479 for tuple || delta(t-s): 0.8418 || ratio(t/s): 140.8\n"
     ]
    }
   ],
   "source": [
    "for i in [5, 50, 200, 1000]:\n",
    "    s = set(range(i))\n",
    "    t = tuple(range(i))\n",
    "    a = i - 1\n",
    "    time_to_get_set_element = timeit(\"a in s\", globals = globals(), number = 100_000)\n",
    "    time_to_get_tuple_element = timeit(\"a in t\", globals = globals(), number = 100_000)\n",
    "    delta = time_to_get_tuple_element - time_to_get_set_element\n",
    "    ratio = time_to_get_tuple_element / time_to_get_set_element\n",
    "    print('with {0:4} items it takes {1:.4f} for set and {2:.4f} for tuple || delta(t-s): {3:.4f} || ratio(t/s): {4:3.1f}'\n",
    "          .format(i, time_to_get_set_element, time_to_get_tuple_element, delta, ratio))"
   ]
  },
  {
   "cell_type": "code",
   "execution_count": 48,
   "id": "ff5b9b2b",
   "metadata": {},
   "outputs": [
    {
     "name": "stdout",
     "output_type": "stream",
     "text": [
      "with    5 items it takes    728 for set and    80 for tuple || delta(s-t):    648 || ratio(s/t): 9.1\n",
      "with  200 items it takes   8408 for set and  1640 for tuple || delta(s-t):   6768 || ratio(s/t): 5.1\n",
      "with  800 items it takes  32984 for set and  6440 for tuple || delta(s-t):  26544 || ratio(s/t): 5.1\n",
      "with 2000 items it takes 131288 for set and 16040 for tuple || delta(s-t): 115248 || ratio(s/t): 8.2\n"
     ]
    }
   ],
   "source": [
    "for i in [5, 200, 800, 2000]:\n",
    "    s = set(range(i))\n",
    "    t = tuple(range(i))\n",
    "    a = i - 1\n",
    "    size_s = sys.getsizeof(s)\n",
    "    size_t = sys.getsizeof(t)\n",
    "    delta = size_s - size_t\n",
    "    ratio = size_s / size_t\n",
    "    print('with {0:4} items it takes {1:6} for set and {2:5} for tuple || delta(s-t): {3:6} || ratio(s/t): {4:3.1f}'\n",
    "          .format(i, size_s, size_t, delta, ratio))"
   ]
  },
  {
   "cell_type": "code",
   "execution_count": null,
   "id": "696c2fd3",
   "metadata": {},
   "outputs": [],
   "source": []
  }
 ],
 "metadata": {
  "kernelspec": {
   "display_name": "Python 3 (ipykernel)",
   "language": "python",
   "name": "python3"
  },
  "language_info": {
   "codemirror_mode": {
    "name": "ipython",
    "version": 3
   },
   "file_extension": ".py",
   "mimetype": "text/x-python",
   "name": "python",
   "nbconvert_exporter": "python",
   "pygments_lexer": "ipython3",
   "version": "3.9.5"
  }
 },
 "nbformat": 4,
 "nbformat_minor": 5
}
