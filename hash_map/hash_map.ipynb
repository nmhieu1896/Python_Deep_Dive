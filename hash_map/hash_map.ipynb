{
 "cells": [
  {
   "cell_type": "markdown",
   "id": "080cea41",
   "metadata": {},
   "source": [
    "# Hash map"
   ]
  },
  {
   "cell_type": "markdown",
   "id": "547bb54c",
   "metadata": {},
   "source": [
    "### memory "
   ]
  },
  {
   "cell_type": "code",
   "execution_count": 36,
   "id": "61cebb09",
   "metadata": {},
   "outputs": [
    {
     "data": {
      "text/plain": [
       "(64, 232, 232, 232, 232)"
      ]
     },
     "execution_count": 36,
     "metadata": {},
     "output_type": "execute_result"
    }
   ],
   "source": [
    "import sys\n",
    "dict0 = {}\n",
    "dict1 = {'a': 1}\n",
    "dict2 = {'a': 1, 'b': 2}\n",
    "dict3 = {'a': 1, 'b': 2, 'c': 3}\n",
    "dict4 = {'abdsdsdasdasdasdasdasdasdasdasdasdasdasdasdasda': 12312312312312312312}\n",
    "sys.getsizeof(dict0), sys.getsizeof(dict1), sys.getsizeof(dict2), sys.getsizeof(dict3), sys.getsizeof(dict4)"
   ]
  },
  {
   "cell_type": "code",
   "execution_count": 60,
   "id": "0121ee7e",
   "metadata": {},
   "outputs": [
    {
     "name": "stdout",
     "output_type": "stream",
     "text": [
      "with 0 items, the size is: 64, and delta is: 64\n",
      "with 1 items, the size is: 232, and delta is: 168\n",
      "with 6 items, the size is: 360, and delta is: 128\n",
      "with 11 items, the size is: 640, and delta is: 280\n",
      "with 22 items, the size is: 1176, and delta is: 536\n",
      "with 43 items, the size is: 2272, and delta is: 1096\n"
     ]
    }
   ],
   "source": [
    "prev = 0\n",
    "for i in range(0,45):\n",
    "    dict = {str(i): i**2 for i in range(i)}\n",
    "    size = sys.getsizeof(dict)\n",
    "    prev, delta = size, size - prev\n",
    "    if delta != 0:\n",
    "        print(f\"with {i} items, the size is: {size}, and delta is: {delta}\")"
   ]
  },
  {
   "cell_type": "markdown",
   "id": "20ff2667",
   "metadata": {},
   "source": [
    "### --------------------------------------------------------------------------------------\n",
    "### Hash function"
   ]
  },
  {
   "cell_type": "code",
   "execution_count": 42,
   "id": "0c1d72fa",
   "metadata": {},
   "outputs": [
    {
     "data": {
      "text/plain": [
       "(-3082971039594710716,\n",
       " -3082971039594710716,\n",
       " -3550055125485641917,\n",
       " -3550055125485641917)"
      ]
     },
     "execution_count": 42,
     "metadata": {},
     "output_type": "execute_result"
    }
   ],
   "source": [
    "a = 'hehehe'\n",
    "b = a\n",
    "c = (1,2)\n",
    "d = c\n",
    "hash(a), hash(b), hash(c), hash(d)"
   ]
  },
  {
   "cell_type": "code",
   "execution_count": 62,
   "id": "b8dd94e0",
   "metadata": {},
   "outputs": [],
   "source": [
    "dict = {a:1,c:2}"
   ]
  },
  {
   "cell_type": "code",
   "execution_count": 65,
   "id": "5e9c69ec",
   "metadata": {},
   "outputs": [
    {
     "data": {
      "text/plain": [
       "(1, 'hehe')"
      ]
     },
     "execution_count": 65,
     "metadata": {},
     "output_type": "execute_result"
    }
   ],
   "source": [
    "dict.get(a), dict.get('a', \"hehe\")"
   ]
  },
  {
   "cell_type": "markdown",
   "id": "4e5ccfb0",
   "metadata": {},
   "source": [
    "=> The immutable mean hashable and can be dict's key, as oppose to the mutable"
   ]
  },
  {
   "cell_type": "code",
   "execution_count": 67,
   "id": "f645bbdb",
   "metadata": {},
   "outputs": [],
   "source": [
    "d = {i: i**2 for i in range(4)}"
   ]
  },
  {
   "cell_type": "code",
   "execution_count": 68,
   "id": "e02c6948",
   "metadata": {},
   "outputs": [
    {
     "data": {
      "text/plain": [
       "{0: 0, 1: 1, 2: 4, 3: 9}"
      ]
     },
     "execution_count": 68,
     "metadata": {},
     "output_type": "execute_result"
    }
   ],
   "source": [
    "d"
   ]
  },
  {
   "cell_type": "code",
   "execution_count": 69,
   "id": "82a38d5d",
   "metadata": {},
   "outputs": [
    {
     "data": {
      "text/plain": [
       "(3, 9)"
      ]
     },
     "execution_count": 69,
     "metadata": {},
     "output_type": "execute_result"
    }
   ],
   "source": [
    "d.popitem()"
   ]
  },
  {
   "cell_type": "code",
   "execution_count": 71,
   "id": "2e8e14b3",
   "metadata": {},
   "outputs": [
    {
     "data": {
      "text/plain": [
       "(5, 25)"
      ]
     },
     "execution_count": 71,
     "metadata": {},
     "output_type": "execute_result"
    }
   ],
   "source": [
    "d[5]=25\n",
    "d.popitem()"
   ]
  },
  {
   "cell_type": "markdown",
   "id": "efd4be0e",
   "metadata": {},
   "source": [
    "popitem pop the last in (LIFO)"
   ]
  },
  {
   "cell_type": "code",
   "execution_count": 74,
   "id": "dcbecbd1",
   "metadata": {},
   "outputs": [
    {
     "data": {
      "text/plain": [
       "25"
      ]
     },
     "execution_count": 74,
     "metadata": {},
     "output_type": "execute_result"
    }
   ],
   "source": [
    "d.setdefault(5, 25)"
   ]
  },
  {
   "cell_type": "code",
   "execution_count": 75,
   "id": "9024d39a",
   "metadata": {},
   "outputs": [
    {
     "data": {
      "text/plain": [
       "25"
      ]
     },
     "execution_count": 75,
     "metadata": {},
     "output_type": "execute_result"
    }
   ],
   "source": [
    "d.setdefault(5, 30)"
   ]
  },
  {
   "cell_type": "code",
   "execution_count": null,
   "id": "e16379ad",
   "metadata": {},
   "outputs": [],
   "source": []
  }
 ],
 "metadata": {
  "kernelspec": {
   "display_name": "Python 3 (ipykernel)",
   "language": "python",
   "name": "python3"
  },
  "language_info": {
   "codemirror_mode": {
    "name": "ipython",
    "version": 3
   },
   "file_extension": ".py",
   "mimetype": "text/x-python",
   "name": "python",
   "nbconvert_exporter": "python",
   "pygments_lexer": "ipython3",
   "version": "3.9.5"
  }
 },
 "nbformat": 4,
 "nbformat_minor": 5
}
