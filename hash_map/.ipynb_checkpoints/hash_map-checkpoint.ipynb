{
 "cells": [
  {
   "cell_type": "markdown",
   "id": "353b3e7f",
   "metadata": {},
   "source": [
    "# Hash map"
   ]
  },
  {
   "cell_type": "markdown",
   "id": "9c3e37cc",
   "metadata": {},
   "source": [
    "### memory "
   ]
  },
  {
   "cell_type": "code",
   "execution_count": 36,
   "id": "4ed229c7",
   "metadata": {},
   "outputs": [
    {
     "data": {
      "text/plain": [
       "(64, 232, 232, 232, 232)"
      ]
     },
     "execution_count": 36,
     "metadata": {},
     "output_type": "execute_result"
    }
   ],
   "source": [
    "import sys\n",
    "dict0 = {}\n",
    "dict1 = {'a': 1}\n",
    "dict2 = {'a': 1, 'b': 2}\n",
    "dict3 = {'a': 1, 'b': 2, 'c': 3}\n",
    "dict4 = {'abdsdsdasdasdasdasdasdasdasdasdasdasdasdasdasda': 12312312312312312312}\n",
    "sys.getsizeof(dict0), sys.getsizeof(dict1), sys.getsizeof(dict2), sys.getsizeof(dict3), sys.getsizeof(dict4)"
   ]
  },
  {
   "cell_type": "code",
   "execution_count": 60,
   "id": "b35ea8b4",
   "metadata": {},
   "outputs": [
    {
     "name": "stdout",
     "output_type": "stream",
     "text": [
      "with 0 items, the size is: 64, and delta is: 64\n",
      "with 1 items, the size is: 232, and delta is: 168\n",
      "with 6 items, the size is: 360, and delta is: 128\n",
      "with 11 items, the size is: 640, and delta is: 280\n",
      "with 22 items, the size is: 1176, and delta is: 536\n",
      "with 43 items, the size is: 2272, and delta is: 1096\n"
     ]
    }
   ],
   "source": [
    "prev = 0\n",
    "for i in range(0,45):\n",
    "    dict = {str(i): i**2 for i in range(i)}\n",
    "    size = sys.getsizeof(dict)\n",
    "    prev, delta = size, size - prev\n",
    "    if delta != 0:\n",
    "        print(f\"with {i} items, the size is: {size}, and delta is: {delta}\")"
   ]
  },
  {
   "cell_type": "markdown",
   "id": "7b910a15",
   "metadata": {},
   "source": [
    "### --------------------------------------------------------------------------------------\n",
    "### Hash function"
   ]
  },
  {
   "cell_type": "code",
   "execution_count": 113,
   "id": "6f5adee0",
   "metadata": {},
   "outputs": [
    {
     "name": "stdout",
     "output_type": "stream",
     "text": [
      "64 2305843009213693951\n"
     ]
    }
   ],
   "source": [
    "print(sys.hash_info.width, sys.hash_info.modulus)"
   ]
  },
  {
   "cell_type": "markdown",
   "id": "13288975",
   "metadata": {},
   "source": [
    "it means hash function return 64 bit integer, and calculated by % by 230...951"
   ]
  },
  {
   "cell_type": "code",
   "execution_count": 131,
   "id": "0695a2b8",
   "metadata": {},
   "outputs": [
    {
     "data": {
      "text/plain": [
       "(-3550055125485641917, -3550055125485641917, -3550055125485641917, 1)"
      ]
     },
     "execution_count": 131,
     "metadata": {},
     "output_type": "execute_result"
    }
   ],
   "source": [
    "c = (1,2)\n",
    "c1 = (1,2)\n",
    "d = c\n",
    "test_dict = {c: 1}\n",
    "hash(c), hash(d), hash(c1), test_dict[c1]"
   ]
  },
  {
   "cell_type": "code",
   "execution_count": 62,
   "id": "434bc594",
   "metadata": {},
   "outputs": [],
   "source": [
    "dict = {a:1,c:2}"
   ]
  },
  {
   "cell_type": "code",
   "execution_count": 65,
   "id": "abf2e93a",
   "metadata": {},
   "outputs": [
    {
     "data": {
      "text/plain": [
       "(1, 'hehe')"
      ]
     },
     "execution_count": 65,
     "metadata": {},
     "output_type": "execute_result"
    }
   ],
   "source": [
    "dict.get(a), dict.get('a', \"hehe\")"
   ]
  },
  {
   "cell_type": "markdown",
   "id": "28dfc2c8",
   "metadata": {},
   "source": [
    "=> The immutable mean hashable and can be dict's key, as oppose to the mutable"
   ]
  },
  {
   "cell_type": "code",
   "execution_count": 67,
   "id": "cf8a5333",
   "metadata": {},
   "outputs": [],
   "source": [
    "d = {i: i**2 for i in range(4)}"
   ]
  },
  {
   "cell_type": "code",
   "execution_count": 68,
   "id": "ded9ecd3",
   "metadata": {},
   "outputs": [
    {
     "data": {
      "text/plain": [
       "{0: 0, 1: 1, 2: 4, 3: 9}"
      ]
     },
     "execution_count": 68,
     "metadata": {},
     "output_type": "execute_result"
    }
   ],
   "source": [
    "d"
   ]
  },
  {
   "cell_type": "code",
   "execution_count": 69,
   "id": "a4a8741d",
   "metadata": {},
   "outputs": [
    {
     "data": {
      "text/plain": [
       "(3, 9)"
      ]
     },
     "execution_count": 69,
     "metadata": {},
     "output_type": "execute_result"
    }
   ],
   "source": [
    "d.popitem()"
   ]
  },
  {
   "cell_type": "code",
   "execution_count": 71,
   "id": "672df6c3",
   "metadata": {},
   "outputs": [
    {
     "data": {
      "text/plain": [
       "(5, 25)"
      ]
     },
     "execution_count": 71,
     "metadata": {},
     "output_type": "execute_result"
    }
   ],
   "source": [
    "d[5]=25\n",
    "d.popitem()"
   ]
  },
  {
   "cell_type": "markdown",
   "id": "40c224b6",
   "metadata": {},
   "source": [
    "popitem pop the last in (LIFO)"
   ]
  },
  {
   "cell_type": "code",
   "execution_count": 74,
   "id": "ca86d831",
   "metadata": {},
   "outputs": [
    {
     "data": {
      "text/plain": [
       "25"
      ]
     },
     "execution_count": 74,
     "metadata": {},
     "output_type": "execute_result"
    }
   ],
   "source": [
    "d.setdefault(5, 25)"
   ]
  },
  {
   "cell_type": "code",
   "execution_count": 75,
   "id": "044dc15d",
   "metadata": {},
   "outputs": [
    {
     "data": {
      "text/plain": [
       "25"
      ]
     },
     "execution_count": 75,
     "metadata": {},
     "output_type": "execute_result"
    }
   ],
   "source": [
    "d.setdefault(5, 30)"
   ]
  },
  {
   "cell_type": "code",
   "execution_count": 77,
   "id": "f8671060",
   "metadata": {},
   "outputs": [],
   "source": [
    "t1 = (1, 2)\n",
    "t2 = (1, 2)\n",
    "\n",
    "d = {t1: \"gg\"}"
   ]
  },
  {
   "cell_type": "code",
   "execution_count": 78,
   "id": "478360b3",
   "metadata": {},
   "outputs": [
    {
     "data": {
      "text/plain": [
       "'gg'"
      ]
     },
     "execution_count": 78,
     "metadata": {},
     "output_type": "execute_result"
    }
   ],
   "source": [
    "d[t2]"
   ]
  },
  {
   "cell_type": "markdown",
   "id": "257a0960",
   "metadata": {},
   "source": [
    "#### t1 == t2 => hash(t1) == hash(t2)"
   ]
  },
  {
   "cell_type": "markdown",
   "id": "6b9c39e7",
   "metadata": {},
   "source": [
    "## --------------------------------------------\n",
    "## Let's see what happen with hashing class instance"
   ]
  },
  {
   "cell_type": "code",
   "execution_count": 79,
   "id": "c109ccb1",
   "metadata": {},
   "outputs": [],
   "source": [
    "class Person0:\n",
    "    def __init__(self, name):\n",
    "        self.name = name"
   ]
  },
  {
   "cell_type": "code",
   "execution_count": 80,
   "id": "a161de42",
   "metadata": {},
   "outputs": [
    {
     "data": {
      "text/plain": [
       "(8777520927796, 8777520927997)"
      ]
     },
     "execution_count": 80,
     "metadata": {},
     "output_type": "execute_result"
    }
   ],
   "source": [
    "p1 = Person0(\"Hieu\")\n",
    "p2 = Person0(\"Hieu\")\n",
    "hash(p1), hash(p2)"
   ]
  },
  {
   "cell_type": "code",
   "execution_count": 81,
   "id": "08d209d6",
   "metadata": {},
   "outputs": [],
   "source": [
    "class Person1:\n",
    "    def __init__(self, name):\n",
    "        self.name = name\n",
    "    \n",
    "    def __eq__(self, other):\n",
    "        return isinstance(other, Person1) and self.name == other.name"
   ]
  },
  {
   "cell_type": "code",
   "execution_count": 82,
   "id": "936210f0",
   "metadata": {},
   "outputs": [
    {
     "ename": "TypeError",
     "evalue": "unhashable type: 'Person1'",
     "output_type": "error",
     "traceback": [
      "\u001b[0;31m---------------------------------------------------------------------------\u001b[0m",
      "\u001b[0;31mTypeError\u001b[0m                                 Traceback (most recent call last)",
      "\u001b[0;32m/tmp/ipykernel_192928/4264902051.py\u001b[0m in \u001b[0;36m<module>\u001b[0;34m\u001b[0m\n\u001b[1;32m      1\u001b[0m \u001b[0mp1\u001b[0m \u001b[0;34m=\u001b[0m \u001b[0mPerson1\u001b[0m\u001b[0;34m(\u001b[0m\u001b[0;34m\"Hieu\"\u001b[0m\u001b[0;34m)\u001b[0m\u001b[0;34m\u001b[0m\u001b[0;34m\u001b[0m\u001b[0m\n\u001b[1;32m      2\u001b[0m \u001b[0mp2\u001b[0m \u001b[0;34m=\u001b[0m \u001b[0mPerson1\u001b[0m\u001b[0;34m(\u001b[0m\u001b[0;34m\"Hieu\"\u001b[0m\u001b[0;34m)\u001b[0m\u001b[0;34m\u001b[0m\u001b[0;34m\u001b[0m\u001b[0m\n\u001b[0;32m----> 3\u001b[0;31m \u001b[0mhash\u001b[0m\u001b[0;34m(\u001b[0m\u001b[0mp1\u001b[0m\u001b[0;34m)\u001b[0m\u001b[0;34m,\u001b[0m \u001b[0mhash\u001b[0m\u001b[0;34m(\u001b[0m\u001b[0mp2\u001b[0m\u001b[0;34m)\u001b[0m\u001b[0;34m\u001b[0m\u001b[0;34m\u001b[0m\u001b[0m\n\u001b[0m",
      "\u001b[0;31mTypeError\u001b[0m: unhashable type: 'Person1'"
     ]
    }
   ],
   "source": [
    "p1 = Person1(\"Hieu\")\n",
    "p2 = Person1(\"Hieu\")\n",
    "hash(p1), hash(p2)"
   ]
  },
  {
   "cell_type": "markdown",
   "id": "9900172c",
   "metadata": {},
   "source": [
    "?????? WHY ????????"
   ]
  },
  {
   "cell_type": "markdown",
   "id": "54d043e0",
   "metadata": {},
   "source": [
    "##### Oh I see, without __eq__, custom class use id(instance) for comparision and hashing, it means p1==p2 <=> p1 is p2\n",
    "##### and --eq-- break that rule. Override --eq-- trigger python to assign --hash-- to none"
   ]
  },
  {
   "cell_type": "code",
   "execution_count": 126,
   "id": "59768f05",
   "metadata": {},
   "outputs": [],
   "source": [
    "class Person2:\n",
    "    def __init__(self, name):\n",
    "        self.name = name\n",
    "        \n",
    "    def __eq__(self, other):\n",
    "        return isinstance(other, Person2) and self.name == other.name\n",
    "        \n",
    "    def __hash__(self):\n",
    "        return hash(self.name)"
   ]
  },
  {
   "cell_type": "code",
   "execution_count": 130,
   "id": "dcc920df",
   "metadata": {},
   "outputs": [
    {
     "data": {
      "text/plain": [
       "(0, 1, 1)"
      ]
     },
     "execution_count": 130,
     "metadata": {},
     "output_type": "execute_result"
    }
   ],
   "source": [
    "p1 = Person2(\"Hieu\")\n",
    "p2 = Person2(\"Hieu\")\n",
    "d = {p1: 1}\n",
    "hash(p1)-hash(p2), d[p1], d[p2]"
   ]
  },
  {
   "cell_type": "code",
   "execution_count": null,
   "id": "251dd080",
   "metadata": {},
   "outputs": [],
   "source": []
  }
 ],
 "metadata": {
  "kernelspec": {
   "display_name": "Python 3 (ipykernel)",
   "language": "python",
   "name": "python3"
  },
  "language_info": {
   "codemirror_mode": {
    "name": "ipython",
    "version": 3
   },
   "file_extension": ".py",
   "mimetype": "text/x-python",
   "name": "python",
   "nbconvert_exporter": "python",
   "pygments_lexer": "ipython3",
   "version": "3.9.5"
  }
 },
 "nbformat": 4,
 "nbformat_minor": 5
}
