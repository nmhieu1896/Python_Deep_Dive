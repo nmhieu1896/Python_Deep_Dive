{
 "cells": [
  {
   "cell_type": "markdown",
   "id": "2751eb40",
   "metadata": {},
   "source": [
    "# Hash map"
   ]
  },
  {
   "cell_type": "markdown",
   "id": "f2b12baf",
   "metadata": {},
   "source": [
    "### memory "
   ]
  },
  {
   "cell_type": "code",
   "execution_count": 36,
   "id": "0fe03b6b",
   "metadata": {},
   "outputs": [
    {
     "data": {
      "text/plain": [
       "(64, 232, 232, 232, 232)"
      ]
     },
     "execution_count": 36,
     "metadata": {},
     "output_type": "execute_result"
    }
   ],
   "source": [
    "import sys\n",
    "dict0 = {}\n",
    "dict1 = {'a': 1}\n",
    "dict2 = {'a': 1, 'b': 2}\n",
    "dict3 = {'a': 1, 'b': 2, 'c': 3}\n",
    "dict4 = {'abdsdsdasdasdasdasdasdasdasdasdasdasdasdasdasda': 12312312312312312312}\n",
    "sys.getsizeof(dict0), sys.getsizeof(dict1), sys.getsizeof(dict2), sys.getsizeof(dict3), sys.getsizeof(dict4)"
   ]
  },
  {
   "cell_type": "code",
   "execution_count": 32,
   "id": "b7e561a6",
   "metadata": {},
   "outputs": [],
   "source": [
    "l1 = '''a.b.c.d.e.f.g.h.i.j.k.l.m.n.o.p.q.r.s.t.u.v.w.x.y.z.\n",
    "a1.a2.a3.a4.a5.a6.a7.a8.a9.b1.b2.b3.b4.b5.b6.b7.b8.b9.\n",
    "c1.c2.c3.c4.c5.c6.c7.c8.c9'''.split(\".\")"
   ]
  },
  {
   "cell_type": "code",
   "execution_count": 37,
   "id": "f57801e2",
   "metadata": {},
   "outputs": [
    {
     "name": "stdout",
     "output_type": "stream",
     "text": [
      "with 0 items, the size is: 64, and delta is: 64\n",
      "with 1 items, the size is: 232, and delta is: 168\n",
      "with 6 items, the size is: 360, and delta is: 128\n",
      "with 11 items, the size is: 640, and delta is: 280\n",
      "with 22 items, the size is: 1176, and delta is: 536\n",
      "with 43 items, the size is: 2272, and delta is: 1096\n"
     ]
    }
   ],
   "source": [
    "dict = {}\n",
    "prev = 0\n",
    "for i in range(0,45):\n",
    "    for (i1,v) in enumerate(l1):\n",
    "        if i1 < i:\n",
    "            dict[v] = i1\n",
    "    size = sys.getsizeof(dict)\n",
    "    prev, delta = size, size - prev\n",
    "    if delta != 0:\n",
    "        print(f\"with {len(dict.keys())} items, the size is: {size}, and delta is: {delta}\")"
   ]
  },
  {
   "cell_type": "code",
   "execution_count": null,
   "id": "bc16067a",
   "metadata": {},
   "outputs": [],
   "source": []
  }
 ],
 "metadata": {
  "kernelspec": {
   "display_name": "Python 3 (ipykernel)",
   "language": "python",
   "name": "python3"
  },
  "language_info": {
   "codemirror_mode": {
    "name": "ipython",
    "version": 3
   },
   "file_extension": ".py",
   "mimetype": "text/x-python",
   "name": "python",
   "nbconvert_exporter": "python",
   "pygments_lexer": "ipython3",
   "version": "3.9.5"
  }
 },
 "nbformat": 4,
 "nbformat_minor": 5
}
